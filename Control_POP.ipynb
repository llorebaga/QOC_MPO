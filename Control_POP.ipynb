{
 "cells": [
  {
   "cell_type": "markdown",
   "id": "272ab120-a572-4b35-842d-2d4a71652a7d",
   "metadata": {},
   "source": [
    "# Solve the polynomial optimization problem using the moment-SOS hierarchy"
   ]
  },
  {
   "cell_type": "code",
   "execution_count": 2,
   "id": "2eaf01f4-f7b7-4759-9e5e-b8127524d190",
   "metadata": {},
   "outputs": [],
   "source": [
    "using JSON\n",
    "using TSSOS\n",
    "using DynamicPolynomials"
   ]
  },
  {
   "cell_type": "code",
   "execution_count": 4,
   "id": "8fd97c47-f198-4239-bd15-0c1ab5f57284",
   "metadata": {},
   "outputs": [
    {
     "data": {
      "text/plain": [
       "(x1, x2, x3)"
      ]
     },
     "execution_count": 4,
     "metadata": {},
     "output_type": "execute_result"
    }
   ],
   "source": [
    "# Define variables\n",
    "@polyvar x1 x2 x3"
   ]
  },
  {
   "cell_type": "code",
   "execution_count": 5,
   "id": "f7fbce5b-4975-4379-ada4-7d3af5e90a30",
   "metadata": {},
   "outputs": [
    {
     "data": {
      "text/latex": [
       "$$ 4.93480220054468x1^{2} + 3.87578458503748x1x2 + 2.02935606320838x1x3 + 0.813167225611526x2^{2} + 0.878856959829747x2x3 + 0.240808917252909x3^{2} $$"
      ],
      "text/plain": [
       "4.93480220054468x1² + 3.87578458503748x1x2 + 2.02935606320838x1x3 + 0.813167225611526x2² + 0.878856959829747x2x3 + 0.240808917252909x3²"
      ]
     },
     "execution_count": 5,
     "metadata": {},
     "output_type": "execute_result"
    }
   ],
   "source": [
    "## Extract polynomial to minimize from file\n",
    "polynomial_mpo0 = JSON.parsefile(\"polynomial_mpo.json\")\n",
    "\n",
    "function parse_polynomial(p::String)\n",
    "    expr = Meta.parse(p)\n",
    "    return eval(expr)\n",
    "end\n",
    "\n",
    "poly_mpo = parse_polynomial(polynomial_mpo0)"
   ]
  },
  {
   "cell_type": "markdown",
   "id": "c008e940-a907-4f01-8ee1-3916dd814df4",
   "metadata": {},
   "source": [
    "#### Code from Victor Magron for extraction of solutions via TSSOS"
   ]
  },
  {
   "cell_type": "code",
   "execution_count": 7,
   "id": "f45a234b-63d1-40d2-bf82-b1977e217db5",
   "metadata": {},
   "outputs": [
    {
     "data": {
      "text/plain": [
       "extract (generic function with 1 method)"
      ]
     },
     "execution_count": 7,
     "metadata": {},
     "output_type": "execute_result"
    }
   ],
   "source": [
    "using LinearAlgebra\n",
    "\n",
    "# extract independent columns of the matrix A\n",
    "# r is the expected rank\n",
    "function i_cols(A, r)\n",
    "  QR = qr(A, Val(true))\n",
    "    return QR.p[1:r]\n",
    "end\n",
    "\n",
    "# See https://homepages.laas.fr/henrion/papers/extract.pdf for a description of the extraction algorithm\n",
    "# Md is the pseudo-moment matrix, assumed to be flat with rank r, returned by data.moment[1]\n",
    "# vd is the monomial vector returned by data.basis[1] or data.basis in the unconstrained case\n",
    "# s = size of the sub-moment matrix subM assumed to have the same rank as Md, e.g., M_{d-1}\n",
    "# n is the number of variables\n",
    "\n",
    "function extract(Md,vd,s,n)\n",
    "\n",
    "subM=Md[1:s,1:s];\n",
    "ic = sort(i_cols(subM,r));\n",
    "subv = map(i->vd[:,i],ic);\n",
    "C = Md[:,ic];\n",
    "hatH = Md[ic,ic];\n",
    "G = cholesky(hatH).U;\n",
    "\n",
    "In=UInt8.(Matrix(I,n,n));\n",
    "\n",
    "idx1 = map(m -> In[1,:]+m ,subv);\n",
    "idx2 = map(m -> In[2,:]+m ,subv);\n",
    "idx3 = map(m -> In[3,:]+m ,subv);\n",
    "\n",
    "vdv = [vd[:,i] for i in 1:size(vd,2)];\n",
    "\n",
    "# indexes of monomials obtained after multiplication by x[1] and x[2]\n",
    "\n",
    "Cidx1 = indexin(idx1,vdv);\n",
    "Cidx2 = indexin(idx2,vdv);\n",
    "Cidx3 = indexin(idx3,vdv);\n",
    "\n",
    "C1 = Md[:,sort(Cidx1)];\n",
    "C2 = Md[:,sort(Cidx2)];\n",
    "C3 = Md[:,sort(Cidx3)];\n",
    "\n",
    "Ax1bar = C \\ C1;\n",
    "Ax2bar = C \\ C2;\n",
    "Ax3bar = C \\ C3;\n",
    "\n",
    "# X1 and X2 are the matrices encoding the multiplication operators\n",
    "\n",
    "X1 = G * Ax1bar * inv(G);\n",
    "X2 = G * Ax2bar * inv(G);\n",
    "X3 = G * Ax3bar * inv(G);\n",
    "\n",
    "X1=(X1+X1')/2;\n",
    "X2=(X2+X2')/2;\n",
    "X3=(X3+X3')/2;\n",
    "\n",
    "# Now we extract the atoms of the Dirac measure\n",
    "\n",
    "rn = rand(n);\n",
    "rn /= norm(rn);\n",
    "A = rn[1]*X1+rn[2]*X2 + rn[3]*X3;\n",
    "\n",
    "T, Q, D = schur(Symmetric(A));\n",
    "\n",
    "# each element of xsol is an extracted solution\n",
    "xsol = map(j -> [Q[j,:]'*X1*Q[:,j], Q[j,:]'*X2*Q[:,j], Q[j,:]'*X3*Q[:,j]]  , 1:r);\n",
    "\n",
    "return rn,xsol\n",
    "end"
   ]
  },
  {
   "cell_type": "code",
   "execution_count": 10,
   "id": "0fb38be9-73dc-4358-a87c-6698fe702a48",
   "metadata": {},
   "outputs": [
    {
     "name": "stdout",
     "output_type": "stream",
     "text": [
      "*********************************** TSSOS ***********************************\n",
      "TSSOS is launching...\n",
      "-----------------------------------------------------------------------------\n",
      "The sizes of PSD blocks:\n",
      "[4]\n",
      "[1]\n",
      "-----------------------------------------------------------------------------\n",
      "Assembling the SDP...\n",
      "There are 10 affine constraints.\n",
      "Solving the SDP...\n",
      "Problem\n",
      "  Name                   :                 \n",
      "  Objective sense        : maximize        \n",
      "  Type                   : CONIC (conic optimization problem)\n",
      "  Constraints            : 10              \n",
      "  Affine conic cons.     : 0               \n",
      "  Disjunctive cons.      : 0               \n",
      "  Cones                  : 0               \n",
      "  Scalar variables       : 1               \n",
      "  Matrix variables       : 1 (scalarized: 10)\n",
      "  Integer variables      : 0               \n",
      "\n",
      "Optimizer started.\n",
      "Presolve started.\n",
      "Linear dependency checker started.\n",
      "Linear dependency checker terminated.\n",
      "Eliminator started.\n",
      "Freed constraints in eliminator : 0\n",
      "Eliminator terminated.\n",
      "Eliminator - tries                  : 1                 time                   : 0.00            \n",
      "Lin. dep.  - tries                  : 1                 time                   : 0.00            \n",
      "Lin. dep.  - primal attempts        : 1                 successes              : 1               \n",
      "Lin. dep.  - dual attempts          : 0                 successes              : 0               \n",
      "Lin. dep.  - primal deps.           : 0                 dual deps.             : 0               \n",
      "Presolve terminated. Time: 0.00    \n",
      "Optimizer  - threads                : 8               \n",
      "Optimizer  - solved problem         : the primal      \n",
      "Optimizer  - Constraints            : 10              \n",
      "Optimizer  - Cones                  : 1               \n",
      "Optimizer  - Scalar variables       : 2                 conic                  : 2               \n",
      "Optimizer  - Semi-definite variables: 1                 scalarized             : 10              \n",
      "Factor     - setup time             : 0.00            \n",
      "Factor     - dense det. time        : 0.00              GP order time          : 0.00            \n",
      "Factor     - nonzeros before factor : 55                after factor           : 55              \n",
      "Factor     - dense dim.             : 0                 flops                  : 7.82e+02        \n",
      "ITE PFEAS    DFEAS    GFEAS    PRSTATUS   POBJ              DOBJ              MU       TIME  \n",
      "0   3.9e+00  1.0e+00  1.0e+00  0.00e+00   -0.000000000e+00  -0.000000000e+00  1.0e+00  0.03  \n",
      "1   7.9e-01  2.0e-01  2.6e-01  -5.90e-01  -9.228785391e-01  -2.106737350e+00  2.0e-01  0.03  \n",
      "2   1.4e-01  3.6e-02  1.0e-02  9.41e-01   -1.819630720e-02  -1.239079680e-02  3.6e-02  0.03  \n",
      "3   1.4e-02  3.6e-03  2.1e-04  1.11e+00   2.703073113e-03   6.723145710e-03   3.6e-03  0.03  \n",
      "4   1.1e-05  2.8e-06  5.7e-09  1.10e+00   -1.080665538e-06  4.095777809e-07   2.8e-06  0.03  \n",
      "5   2.0e-10  5.2e-11  1.1e-13  1.00e+00   8.271786952e-11   1.669458844e-10   5.2e-11  0.03  \n",
      "Optimizer terminated. Time: 0.03    \n",
      "\n",
      "SDP solving time: 5.5398093 seconds.\n",
      "optimum = 8.271786952171909e-11\n",
      "[0.999999999864727 -0.0 -0.0 -0.0; -0.0 0.012935028307770128 -0.09881632751255065 0.12581684923099315; -0.0 -0.09881632751255065 0.7549011165730508 -0.9611699425897994; -0.0 0.12581684923099315 -0.9611699425897994 1.2237995897471898]UInt8[0x00 0x01 0x00 0x00; 0x00 0x00 0x01 0x00; 0x00 0x00 0x00 0x01]([0.5889031953250633, 0.21251534652263232, 0.7797629473296971], [[0.0, 0.0, 0.0]])"
     ]
    }
   ],
   "source": [
    "opt,sol,data = tssos_first(poly_mpo, variables(poly_mpo), order=1, TS=false);\n",
    "Md=data.moment[1];\n",
    "print(Md)\n",
    "vd=data.basis;\n",
    "print(vd)\n",
    "n=3;\n",
    "r = 1;\n",
    "s = 1;\n",
    "\n",
    "xsol=extract(Md,vd,s,n);\n",
    "print(xsol)"
   ]
  },
  {
   "cell_type": "code",
   "execution_count": 11,
   "id": "e5d674cb-c971-418b-b195-a69709efbf2a",
   "metadata": {},
   "outputs": [
    {
     "data": {
      "text/plain": [
       "3-element Vector{Float64}:\n",
       " 0.0\n",
       " 0.0\n",
       " 0.0"
      ]
     },
     "execution_count": 11,
     "metadata": {},
     "output_type": "execute_result"
    }
   ],
   "source": [
    "xsol[2][]"
   ]
  },
  {
   "cell_type": "code",
   "execution_count": 13,
   "id": "ab637d9f-f8ef-4b32-86bd-b351dfe0ad0d",
   "metadata": {},
   "outputs": [
    {
     "data": {
      "text/plain": [
       "0.0"
      ]
     },
     "execution_count": 13,
     "metadata": {},
     "output_type": "execute_result"
    }
   ],
   "source": [
    "poly_mpo([0,0,0])"
   ]
  }
 ],
 "metadata": {
  "kernelspec": {
   "display_name": "Julia 1.10.5",
   "language": "julia",
   "name": "julia-1.10"
  },
  "language_info": {
   "file_extension": ".jl",
   "mimetype": "application/julia",
   "name": "julia",
   "version": "1.10.5"
  }
 },
 "nbformat": 4,
 "nbformat_minor": 5
}
