{
 "cells": [
  {
   "cell_type": "markdown",
   "metadata": {},
   "source": [
    "# Code for Calculating the Frobenius Norm of target unitary from different GRAPE functions\n",
    "\n",
    "In this notebook, we use two different functions from the qutip control library (\"optimize_pulse_unitary\" from the pulseoptim object and \"cy_grape_unitary\" from the grape object), in order to implement the GRAPE algorithm. From this we obtain a final Unitary $\\hat U$ which should be close to some given target Unitary $\\hat U^*$. We then calculate the Frobenius norm squared of the difference between these two unitary as a measure of the error fidelity:\n",
    "\n",
    "$$ || A  ||_{F}^2  = Tr(A^{\\dagger}A) = \\sum_{ij}^{N} |A_{ij}|^{2}$$\n",
    "\n",
    "\n",
    "These values are then plotted against previously obtained results which obtained the unitary by reformulating the system in terms of a polynomial equation (https://arxiv.org/pdf/2209.05790.pdf) "
   ]
  },
  {
   "cell_type": "markdown",
   "metadata": {},
   "source": [
    "## Imports\n",
    "\n",
    "Below are the necessary imports for running this code:\n",
    "\n",
    "1) Qutip functions: \n",
    "\n",
    "\n",
    "The first line does import all qutip functions from the base object, which is used here to convery numpy arrays to Quantum objects using Qobj() and qeye() to create an identity operator of a specified size (here 3) as the initial starting point for the GRAPE algorithm.\n",
    "\n",
    "The next set of imports are functions used for the pulseoptim class and a logger class which formats the result when being printed to terminal/ saving the to a file (I don't think we need them)\n",
    "\n",
    "The final set of qutip imports are for implementing the cy_grape method. The TextProgressBar is justed used as a convenient way of tracking the progress of the function. (plot_grape_control_fields and _overlap are not necessary any more but are just used as tools for plotting the grape control fields and calculating the trace norm respectively)\n",
    "\n",
    "2) Other imports:\n",
    "\n",
    "\n",
    "The next set of imports are just the basic imports for simple tasks: \n",
    "matplotlib for plotting. \n",
    "\n",
    "numpy for storing and manipulating data.\n",
    "\n",
    "h5py for reading and writing hdf5 files. \n",
    "\n",
    "time for time-keeping.  \n"
   ]
  },
  {
   "cell_type": "code",
   "execution_count": 1,
   "metadata": {},
   "outputs": [],
   "source": [
    "from qutip import *\n",
    "\n",
    "#QuTiP control modules\n",
    "import qutip.control.pulseoptim as cpo\n",
    "#import qutip.logging_utils as logging\n",
    "#logger = logging.get_logger()\n",
    "#Set this to None or logging.WARN for 'quiet' execution\n",
    "#log_level = logging.INFO\n",
    "\n",
    "from qutip.control import * \n",
    "from qutip.ui.progressbar import TextProgressBar\n",
    "from qutip.control.grape import plot_grape_control_fields, _overlap\n",
    "\n",
    "\n",
    "%matplotlib inline\n",
    "import numpy as np\n",
    "from numpy import linalg as LA\n",
    "import matplotlib.pyplot as plt\n",
    "#import datetime\n",
    "import h5py\n",
    "import time \n",
    "start_time = time.time()\n",
    "\n",
    "from tqdm.notebook import tqdm\n",
    "\n",
    "from multiprocessing import Pool"
   ]
  },
  {
   "cell_type": "code",
   "execution_count": 2,
   "metadata": {},
   "outputs": [],
   "source": [
    "import numpy as np\n",
    "from functools import reduce\n",
    "    \n",
    "# Identity and Pauli matrices\n",
    "I2 = np.eye(2)\n",
    "X = np.array([[0.0, 1.0], [1.0, 0.0]])\n",
    "Z = np.array([[1.0, 0.0], [0.0, -1.0]])\n",
    "    \n",
    "# Kronecker product of a single operator at position `pos` in n-qubit system\n",
    "def kron_n_single(n, op, pos):\n",
    "    ops = [I2.copy() for _ in range(n)]\n",
    "    ops[pos] = op\n",
    "    return reduce(np.kron, ops)\n",
    "    \n",
    "# Kronecker product of two operators at positions `pos1` and `pos2`\n",
    "def kron_n_double(n, op1, pos1, op2, pos2):\n",
    "    ops = [I2.copy() for _ in range(n)]\n",
    "    ops[pos1] = op1\n",
    "    ops[pos2] = op2\n",
    "    return reduce(np.kron, ops)\n",
    "    \n",
    "# Static (ZZ) part of the Ising Hamiltonian\n",
    "def H0_Ising(n):\n",
    "    dim = 2**n\n",
    "    H0 = np.zeros((dim, dim))\n",
    "    for i in range(n - 1):\n",
    "        H0 += kron_n_double(n, Z, i, Z, i + 1)\n",
    "    return H0\n",
    "    \n",
    "# Control (X) part of the Ising Hamiltonian\n",
    "def Hc_Ising(n):\n",
    "    dim = 2**n\n",
    "    Hc = np.zeros((dim, dim))\n",
    "    for i in range(n):\n",
    "        Hc += kron_n_single(n, X, i)\n",
    "    return Hc"
   ]
  },
  {
   "cell_type": "code",
   "execution_count": 3,
   "metadata": {},
   "outputs": [],
   "source": [
    "# Fidelity error target\n",
    "fid_err_targ = 1e-10\n",
    "# Maximum iterations for the optisation algorithm\n",
    "max_iter = 1000\n",
    "# Maximum (elapsed) time allowed in seconds\n",
    "max_wall_time = 1000\n",
    "# Minimum gradient (sum of gradients squared)\n",
    "# as this tends to 0 -> local minima has been found\n",
    "min_grad = 1e-10\n",
    "    \n",
    "# pulse type alternatives: RND|ZERO|LIN|SINE|SQUARE|SAW|TRIANGLE|\n",
    "p_type = 'RND' "
   ]
  },
  {
   "cell_type": "code",
   "execution_count": 4,
   "metadata": {},
   "outputs": [],
   "source": [
    "def optimize(U_tag, H0, Hc, U_0, alg):\n",
    "    return cpo.optimize_pulse_unitary(\n",
    "                H0, Hc, U_0, Qobj(U_tag), n_ts, evo_time, \n",
    "                fid_err_targ=fid_err_targ, min_grad=min_grad, \n",
    "                max_iter=max_iter, max_wall_time=max_wall_time, \n",
    "                # log_level=log_level,\n",
    "                init_pulse_type=p_type, \n",
    "                alg=alg,\n",
    "                # gen_stats=True\n",
    "            ).evo_full_final"
   ]
  },
  {
   "cell_type": "code",
   "execution_count": 5,
   "metadata": {
    "scrolled": true
   },
   "outputs": [
    {
     "data": {
      "application/vnd.jupyter.widget-view+json": {
       "model_id": "c8f37b8defa645a493b363b47dadce0d",
       "version_major": 2,
       "version_minor": 0
      },
      "text/plain": [
       "  0%|          | 0/100 [00:00<?, ?it/s]"
      ]
     },
     "metadata": {},
     "output_type": "display_data"
    },
    {
     "data": {
      "application/vnd.jupyter.widget-view+json": {
       "model_id": "e7ce3a63926a47f083a9fa6d99c11c87",
       "version_major": 2,
       "version_minor": 0
      },
      "text/plain": [
       "  0%|          | 0/100 [00:00<?, ?it/s]"
      ]
     },
     "metadata": {},
     "output_type": "display_data"
    },
    {
     "data": {
      "application/vnd.jupyter.widget-view+json": {
       "model_id": "494113760b274334a9e5ca129ec1112a",
       "version_major": 2,
       "version_minor": 0
      },
      "text/plain": [
       "  0%|          | 0/100 [00:00<?, ?it/s]"
      ]
     },
     "metadata": {},
     "output_type": "display_data"
    },
    {
     "data": {
      "application/vnd.jupyter.widget-view+json": {
       "model_id": "486e0a4f95c14165852fe0f1c557adcb",
       "version_major": 2,
       "version_minor": 0
      },
      "text/plain": [
       "  0%|          | 0/100 [00:00<?, ?it/s]"
      ]
     },
     "metadata": {},
     "output_type": "display_data"
    },
    {
     "data": {
      "application/vnd.jupyter.widget-view+json": {
       "model_id": "0d44f6893a60486384384e6a776bfb16",
       "version_major": 2,
       "version_minor": 0
      },
      "text/plain": [
       "  0%|          | 0/100 [00:00<?, ?it/s]"
      ]
     },
     "metadata": {},
     "output_type": "display_data"
    },
    {
     "data": {
      "application/vnd.jupyter.widget-view+json": {
       "model_id": "3947775f281c468781e6fcebbf8126bd",
       "version_major": 2,
       "version_minor": 0
      },
      "text/plain": [
       "  0%|          | 0/100 [00:00<?, ?it/s]"
      ]
     },
     "metadata": {},
     "output_type": "display_data"
    },
    {
     "data": {
      "application/vnd.jupyter.widget-view+json": {
       "model_id": "95bb2030f93343dfb98ffad6ef96260f",
       "version_major": 2,
       "version_minor": 0
      },
      "text/plain": [
       "  0%|          | 0/100 [00:00<?, ?it/s]"
      ]
     },
     "metadata": {},
     "output_type": "display_data"
    },
    {
     "name": "stderr",
     "output_type": "stream",
     "text": [
      "WARNING:qutip_qtrl.pulsegen:The estimated number of coefficients 31 exceeds the amount (20) recommended for efficient optimisation. You can set this level explicitly to suppress this message.\n",
      "WARNING:qutip_qtrl.pulsegen:The estimated number of coefficients 31 exceeds the amount (20) recommended for efficient optimisation. You can set this level explicitly to suppress this message.\n",
      "WARNING:qutip_qtrl.pulsegen:The estimated number of coefficients 31 exceeds the amount (20) recommended for efficient optimisation. You can set this level explicitly to suppress this message.\n",
      "WARNING:qutip_qtrl.pulsegen:The estimated number of coefficients 31 exceeds the amount (20) recommended for efficient optimisation. You can set this level explicitly to suppress this message.\n",
      "WARNING:qutip_qtrl.pulsegen:The estimated number of coefficients 31 exceeds the amount (20) recommended for efficient optimisation. You can set this level explicitly to suppress this message.\n",
      "WARNING:qutip_qtrl.pulsegen:The estimated number of coefficients 31 exceeds the amount (20) recommended for efficient optimisation. You can set this level explicitly to suppress this message.\n",
      "WARNING:qutip_qtrl.pulsegen:The estimated number of coefficients 31 exceeds the amount (20) recommended for efficient optimisation. You can set this level explicitly to suppress this message.\n",
      "WARNING:qutip_qtrl.pulsegen:The estimated number of coefficients 31 exceeds the amount (20) recommended for efficient optimisation. You can set this level explicitly to suppress this message.\n",
      "WARNING:qutip_qtrl.pulsegen:The estimated number of coefficients 31 exceeds the amount (20) recommended for efficient optimisation. You can set this level explicitly to suppress this message.\n",
      "WARNING:qutip_qtrl.pulsegen:The estimated number of coefficients 31 exceeds the amount (20) recommended for efficient optimisation. You can set this level explicitly to suppress this message.\n",
      "WARNING:qutip_qtrl.pulsegen:The estimated number of coefficients 31 exceeds the amount (20) recommended for efficient optimisation. You can set this level explicitly to suppress this message.\n",
      "WARNING:qutip_qtrl.pulsegen:The estimated number of coefficients 31 exceeds the amount (20) recommended for efficient optimisation. You can set this level explicitly to suppress this message.\n",
      "WARNING:qutip_qtrl.pulsegen:The estimated number of coefficients 31 exceeds the amount (20) recommended for efficient optimisation. You can set this level explicitly to suppress this message.\n",
      "WARNING:qutip_qtrl.pulsegen:The estimated number of coefficients 31 exceeds the amount (20) recommended for efficient optimisation. You can set this level explicitly to suppress this message.\n",
      "WARNING:qutip_qtrl.pulsegen:The estimated number of coefficients 31 exceeds the amount (20) recommended for efficient optimisation. You can set this level explicitly to suppress this message.\n",
      "WARNING:qutip_qtrl.pulsegen:The estimated number of coefficients 31 exceeds the amount (20) recommended for efficient optimisation. You can set this level explicitly to suppress this message.\n",
      "WARNING:qutip_qtrl.pulsegen:The estimated number of coefficients 31 exceeds the amount (20) recommended for efficient optimisation. You can set this level explicitly to suppress this message.\n",
      "WARNING:qutip_qtrl.pulsegen:The estimated number of coefficients 31 exceeds the amount (20) recommended for efficient optimisation. You can set this level explicitly to suppress this message.\n",
      "WARNING:qutip_qtrl.pulsegen:The estimated number of coefficients 31 exceeds the amount (20) recommended for efficient optimisation. You can set this level explicitly to suppress this message.\n",
      "WARNING:qutip_qtrl.pulsegen:The estimated number of coefficients 31 exceeds the amount (20) recommended for efficient optimisation. You can set this level explicitly to suppress this message.\n",
      "WARNING:qutip_qtrl.pulsegen:The estimated number of coefficients 31 exceeds the amount (20) recommended for efficient optimisation. You can set this level explicitly to suppress this message.\n",
      "WARNING:qutip_qtrl.pulsegen:The estimated number of coefficients 31 exceeds the amount (20) recommended for efficient optimisation. You can set this level explicitly to suppress this message.\n",
      "WARNING:qutip_qtrl.pulsegen:The estimated number of coefficients 31 exceeds the amount (20) recommended for efficient optimisation. You can set this level explicitly to suppress this message.\n",
      "WARNING:qutip_qtrl.pulsegen:The estimated number of coefficients 31 exceeds the amount (20) recommended for efficient optimisation. You can set this level explicitly to suppress this message.\n",
      "WARNING:qutip_qtrl.pulsegen:The estimated number of coefficients 31 exceeds the amount (20) recommended for efficient optimisation. You can set this level explicitly to suppress this message.\n",
      "WARNING:qutip_qtrl.pulsegen:The estimated number of coefficients 31 exceeds the amount (20) recommended for efficient optimisation. You can set this level explicitly to suppress this message.\n",
      "WARNING:qutip_qtrl.pulsegen:The estimated number of coefficients 31 exceeds the amount (20) recommended for efficient optimisation. You can set this level explicitly to suppress this message.\n",
      "WARNING:qutip_qtrl.pulsegen:The estimated number of coefficients 31 exceeds the amount (20) recommended for efficient optimisation. You can set this level explicitly to suppress this message.\n",
      "WARNING:qutip_qtrl.pulsegen:The estimated number of coefficients 31 exceeds the amount (20) recommended for efficient optimisation. You can set this level explicitly to suppress this message.\n",
      "WARNING:qutip_qtrl.pulsegen:The estimated number of coefficients 31 exceeds the amount (20) recommended for efficient optimisation. You can set this level explicitly to suppress this message.\n",
      "WARNING:qutip_qtrl.pulsegen:The estimated number of coefficients 31 exceeds the amount (20) recommended for efficient optimisation. You can set this level explicitly to suppress this message.\n",
      "WARNING:qutip_qtrl.pulsegen:The estimated number of coefficients 31 exceeds the amount (20) recommended for efficient optimisation. You can set this level explicitly to suppress this message.\n",
      "WARNING:qutip_qtrl.pulsegen:The estimated number of coefficients 31 exceeds the amount (20) recommended for efficient optimisation. You can set this level explicitly to suppress this message.\n",
      "WARNING:qutip_qtrl.pulsegen:The estimated number of coefficients 31 exceeds the amount (20) recommended for efficient optimisation. You can set this level explicitly to suppress this message.\n",
      "WARNING:qutip_qtrl.pulsegen:The estimated number of coefficients 31 exceeds the amount (20) recommended for efficient optimisation. You can set this level explicitly to suppress this message.\n",
      "WARNING:qutip_qtrl.pulsegen:The estimated number of coefficients 31 exceeds the amount (20) recommended for efficient optimisation. You can set this level explicitly to suppress this message.\n",
      "WARNING:qutip_qtrl.pulsegen:The estimated number of coefficients 31 exceeds the amount (20) recommended for efficient optimisation. You can set this level explicitly to suppress this message.\n",
      "WARNING:qutip_qtrl.pulsegen:The estimated number of coefficients 31 exceeds the amount (20) recommended for efficient optimisation. You can set this level explicitly to suppress this message.\n",
      "WARNING:qutip_qtrl.pulsegen:The estimated number of coefficients 31 exceeds the amount (20) recommended for efficient optimisation. You can set this level explicitly to suppress this message.\n",
      "WARNING:qutip_qtrl.pulsegen:The estimated number of coefficients 31 exceeds the amount (20) recommended for efficient optimisation. You can set this level explicitly to suppress this message.\n",
      "WARNING:qutip_qtrl.pulsegen:The estimated number of coefficients 31 exceeds the amount (20) recommended for efficient optimisation. You can set this level explicitly to suppress this message.\n",
      "WARNING:qutip_qtrl.pulsegen:The estimated number of coefficients 31 exceeds the amount (20) recommended for efficient optimisation. You can set this level explicitly to suppress this message.\n",
      "WARNING:qutip_qtrl.pulsegen:The estimated number of coefficients 31 exceeds the amount (20) recommended for efficient optimisation. You can set this level explicitly to suppress this message.\n",
      "WARNING:qutip_qtrl.pulsegen:The estimated number of coefficients 31 exceeds the amount (20) recommended for efficient optimisation. You can set this level explicitly to suppress this message.\n",
      "WARNING:qutip_qtrl.pulsegen:The estimated number of coefficients 31 exceeds the amount (20) recommended for efficient optimisation. You can set this level explicitly to suppress this message.\n",
      "WARNING:qutip_qtrl.pulsegen:The estimated number of coefficients 31 exceeds the amount (20) recommended for efficient optimisation. You can set this level explicitly to suppress this message.\n",
      "WARNING:qutip_qtrl.pulsegen:The estimated number of coefficients 31 exceeds the amount (20) recommended for efficient optimisation. You can set this level explicitly to suppress this message.\n",
      "WARNING:qutip_qtrl.pulsegen:The estimated number of coefficients 31 exceeds the amount (20) recommended for efficient optimisation. You can set this level explicitly to suppress this message.\n",
      "WARNING:qutip_qtrl.pulsegen:The estimated number of coefficients 31 exceeds the amount (20) recommended for efficient optimisation. You can set this level explicitly to suppress this message.\n",
      "WARNING:qutip_qtrl.pulsegen:The estimated number of coefficients 31 exceeds the amount (20) recommended for efficient optimisation. You can set this level explicitly to suppress this message.\n",
      "WARNING:qutip_qtrl.pulsegen:The estimated number of coefficients 31 exceeds the amount (20) recommended for efficient optimisation. You can set this level explicitly to suppress this message.\n",
      "WARNING:qutip_qtrl.pulsegen:The estimated number of coefficients 31 exceeds the amount (20) recommended for efficient optimisation. You can set this level explicitly to suppress this message.\n",
      "WARNING:qutip_qtrl.pulsegen:The estimated number of coefficients 31 exceeds the amount (20) recommended for efficient optimisation. You can set this level explicitly to suppress this message.\n",
      "WARNING:qutip_qtrl.pulsegen:The estimated number of coefficients 31 exceeds the amount (20) recommended for efficient optimisation. You can set this level explicitly to suppress this message.\n",
      "WARNING:qutip_qtrl.pulsegen:The estimated number of coefficients 31 exceeds the amount (20) recommended for efficient optimisation. You can set this level explicitly to suppress this message.\n",
      "WARNING:qutip_qtrl.pulsegen:The estimated number of coefficients 31 exceeds the amount (20) recommended for efficient optimisation. You can set this level explicitly to suppress this message.\n",
      "WARNING:qutip_qtrl.pulsegen:The estimated number of coefficients 31 exceeds the amount (20) recommended for efficient optimisation. You can set this level explicitly to suppress this message.\n",
      "WARNING:qutip_qtrl.pulsegen:The estimated number of coefficients 31 exceeds the amount (20) recommended for efficient optimisation. You can set this level explicitly to suppress this message.\n",
      "WARNING:qutip_qtrl.pulsegen:The estimated number of coefficients 31 exceeds the amount (20) recommended for efficient optimisation. You can set this level explicitly to suppress this message.\n",
      "WARNING:qutip_qtrl.pulsegen:The estimated number of coefficients 31 exceeds the amount (20) recommended for efficient optimisation. You can set this level explicitly to suppress this message.\n",
      "WARNING:qutip_qtrl.pulsegen:The estimated number of coefficients 31 exceeds the amount (20) recommended for efficient optimisation. You can set this level explicitly to suppress this message.\n",
      "WARNING:qutip_qtrl.pulsegen:The estimated number of coefficients 31 exceeds the amount (20) recommended for efficient optimisation. You can set this level explicitly to suppress this message.\n",
      "WARNING:qutip_qtrl.pulsegen:The estimated number of coefficients 31 exceeds the amount (20) recommended for efficient optimisation. You can set this level explicitly to suppress this message.\n",
      "WARNING:qutip_qtrl.pulsegen:The estimated number of coefficients 31 exceeds the amount (20) recommended for efficient optimisation. You can set this level explicitly to suppress this message.\n",
      "WARNING:qutip_qtrl.pulsegen:The estimated number of coefficients 31 exceeds the amount (20) recommended for efficient optimisation. You can set this level explicitly to suppress this message.\n",
      "WARNING:qutip_qtrl.pulsegen:The estimated number of coefficients 31 exceeds the amount (20) recommended for efficient optimisation. You can set this level explicitly to suppress this message.\n",
      "WARNING:qutip_qtrl.pulsegen:The estimated number of coefficients 31 exceeds the amount (20) recommended for efficient optimisation. You can set this level explicitly to suppress this message.\n",
      "WARNING:qutip_qtrl.pulsegen:The estimated number of coefficients 31 exceeds the amount (20) recommended for efficient optimisation. You can set this level explicitly to suppress this message.\n",
      "WARNING:qutip_qtrl.pulsegen:The estimated number of coefficients 31 exceeds the amount (20) recommended for efficient optimisation. You can set this level explicitly to suppress this message.\n",
      "WARNING:qutip_qtrl.pulsegen:The estimated number of coefficients 31 exceeds the amount (20) recommended for efficient optimisation. You can set this level explicitly to suppress this message.\n",
      "WARNING:qutip_qtrl.pulsegen:The estimated number of coefficients 31 exceeds the amount (20) recommended for efficient optimisation. You can set this level explicitly to suppress this message.\n",
      "WARNING:qutip_qtrl.pulsegen:The estimated number of coefficients 31 exceeds the amount (20) recommended for efficient optimisation. You can set this level explicitly to suppress this message.\n",
      "WARNING:qutip_qtrl.pulsegen:The estimated number of coefficients 31 exceeds the amount (20) recommended for efficient optimisation. You can set this level explicitly to suppress this message.\n",
      "WARNING:qutip_qtrl.pulsegen:The estimated number of coefficients 31 exceeds the amount (20) recommended for efficient optimisation. You can set this level explicitly to suppress this message.\n",
      "WARNING:qutip_qtrl.pulsegen:The estimated number of coefficients 31 exceeds the amount (20) recommended for efficient optimisation. You can set this level explicitly to suppress this message.\n",
      "WARNING:qutip_qtrl.pulsegen:The estimated number of coefficients 31 exceeds the amount (20) recommended for efficient optimisation. You can set this level explicitly to suppress this message.\n",
      "WARNING:qutip_qtrl.pulsegen:The estimated number of coefficients 31 exceeds the amount (20) recommended for efficient optimisation. You can set this level explicitly to suppress this message.\n",
      "WARNING:qutip_qtrl.pulsegen:The estimated number of coefficients 31 exceeds the amount (20) recommended for efficient optimisation. You can set this level explicitly to suppress this message.\n",
      "WARNING:qutip_qtrl.pulsegen:The estimated number of coefficients 31 exceeds the amount (20) recommended for efficient optimisation. You can set this level explicitly to suppress this message.\n",
      "WARNING:qutip_qtrl.pulsegen:The estimated number of coefficients 31 exceeds the amount (20) recommended for efficient optimisation. You can set this level explicitly to suppress this message.\n",
      "WARNING:qutip_qtrl.pulsegen:The estimated number of coefficients 31 exceeds the amount (20) recommended for efficient optimisation. You can set this level explicitly to suppress this message.\n",
      "WARNING:qutip_qtrl.pulsegen:The estimated number of coefficients 31 exceeds the amount (20) recommended for efficient optimisation. You can set this level explicitly to suppress this message.\n",
      "WARNING:qutip_qtrl.pulsegen:The estimated number of coefficients 31 exceeds the amount (20) recommended for efficient optimisation. You can set this level explicitly to suppress this message.\n",
      "WARNING:qutip_qtrl.pulsegen:The estimated number of coefficients 31 exceeds the amount (20) recommended for efficient optimisation. You can set this level explicitly to suppress this message.\n",
      "WARNING:qutip_qtrl.pulsegen:The estimated number of coefficients 31 exceeds the amount (20) recommended for efficient optimisation. You can set this level explicitly to suppress this message.\n",
      "WARNING:qutip_qtrl.pulsegen:The estimated number of coefficients 31 exceeds the amount (20) recommended for efficient optimisation. You can set this level explicitly to suppress this message.\n",
      "WARNING:qutip_qtrl.pulsegen:The estimated number of coefficients 31 exceeds the amount (20) recommended for efficient optimisation. You can set this level explicitly to suppress this message.\n",
      "WARNING:qutip_qtrl.pulsegen:The estimated number of coefficients 31 exceeds the amount (20) recommended for efficient optimisation. You can set this level explicitly to suppress this message.\n",
      "WARNING:qutip_qtrl.pulsegen:The estimated number of coefficients 31 exceeds the amount (20) recommended for efficient optimisation. You can set this level explicitly to suppress this message.\n",
      "WARNING:qutip_qtrl.pulsegen:The estimated number of coefficients 31 exceeds the amount (20) recommended for efficient optimisation. You can set this level explicitly to suppress this message.\n",
      "WARNING:qutip_qtrl.pulsegen:The estimated number of coefficients 31 exceeds the amount (20) recommended for efficient optimisation. You can set this level explicitly to suppress this message.\n",
      "WARNING:qutip_qtrl.pulsegen:The estimated number of coefficients 31 exceeds the amount (20) recommended for efficient optimisation. You can set this level explicitly to suppress this message.\n",
      "WARNING:qutip_qtrl.pulsegen:The estimated number of coefficients 31 exceeds the amount (20) recommended for efficient optimisation. You can set this level explicitly to suppress this message.\n",
      "WARNING:qutip_qtrl.pulsegen:The estimated number of coefficients 31 exceeds the amount (20) recommended for efficient optimisation. You can set this level explicitly to suppress this message.\n",
      "WARNING:qutip_qtrl.pulsegen:The estimated number of coefficients 31 exceeds the amount (20) recommended for efficient optimisation. You can set this level explicitly to suppress this message.\n",
      "WARNING:qutip_qtrl.pulsegen:The estimated number of coefficients 31 exceeds the amount (20) recommended for efficient optimisation. You can set this level explicitly to suppress this message.\n",
      "WARNING:qutip_qtrl.pulsegen:The estimated number of coefficients 31 exceeds the amount (20) recommended for efficient optimisation. You can set this level explicitly to suppress this message.\n",
      "WARNING:qutip_qtrl.pulsegen:The estimated number of coefficients 31 exceeds the amount (20) recommended for efficient optimisation. You can set this level explicitly to suppress this message.\n",
      "WARNING:qutip_qtrl.pulsegen:The estimated number of coefficients 31 exceeds the amount (20) recommended for efficient optimisation. You can set this level explicitly to suppress this message.\n",
      "WARNING:qutip_qtrl.pulsegen:The estimated number of coefficients 31 exceeds the amount (20) recommended for efficient optimisation. You can set this level explicitly to suppress this message.\n"
     ]
    },
    {
     "data": {
      "application/vnd.jupyter.widget-view+json": {
       "model_id": "4ec598b960ed4764bb6e80cb89cca74e",
       "version_major": 2,
       "version_minor": 0
      },
      "text/plain": [
       "  0%|          | 0/100 [00:00<?, ?it/s]"
      ]
     },
     "metadata": {},
     "output_type": "display_data"
    }
   ],
   "source": [
    "for j in [2,3,4,5]:\n",
    "\n",
    "    n_ts = 10\n",
    "\n",
    "    with h5py.File(f\"results_{j}_100.hdf5\", 'r') as resultsFile:\n",
    "        #extract the data and store in an array\n",
    "    \n",
    "        U_targets = resultsFile[\"U_targets\"][...]\n",
    "        \n",
    "    sample = U_targets.shape[2] #choose number of target unitaries - this is choosing the full 1000\n",
    "    \n",
    "    #for storing the obtained unitaries (*)\n",
    "    U_final_pulseoptim = []\n",
    "    U_final_cyGRAPE = []\n",
    "    \n",
    "    \n",
    "    H0 = H0_Ising(j)\n",
    "    H0 /= H0.max()\n",
    "    \n",
    "    Hc = Hc_Ising(j)\n",
    "    Hc /= Hc.max()\n",
    "    \n",
    "    H0 = Qobj(H0)\n",
    "    Hc = [Qobj(Hc)] \n",
    "     \n",
    "    # Unitary starting point\n",
    "    U_0 = qeye(2**j)\n",
    "    \n",
    "    \n",
    "    # Number of time slots\n",
    "    \n",
    "    \n",
    "    # Time allowed for the evolution\n",
    "    evo_time = 0.5\n",
    "\n",
    "    U_final_pulseoptim = [\n",
    "        optimize(U_targets[:,:,i], H0, Hc, U_0, alg='CRAB') for i in tqdm(range(sample))\n",
    "    ]\n",
    "\n",
    "    U_final_cyGRAPE = [\n",
    "        optimize(U_targets[:,:,i], H0, Hc, U_0, alg='GRAPE') for i in tqdm(range(sample))\n",
    "    ]\n",
    "\n",
    "    #calculating fidelity\n",
    "    \n",
    "    pulseoptim_fidelity = np.zeros(sample)\n",
    "    grape_fidelity = np.zeros(sample)\n",
    "    \n",
    "    \n",
    "    for i in range(sample):\n",
    "        pulseoptim_fidelity[i] = abs(_overlap(Qobj(U_targets[:,:,i]), U_final_pulseoptim[i]))\n",
    "        grape_fidelity[i] = abs(_overlap(Qobj(U_targets[:,:,i]), U_final_cyGRAPE[i]))\n",
    "        \n",
    "    \n",
    "    \n",
    "    pulseoptim_inf = 1 - pulseoptim_fidelity \n",
    "    grape_inf = 1 - grape_fidelity\n",
    "\n",
    "    with h5py.File('RND_qutip_opt_results_qubits_' +str(j) + '_100.hdf5', 'w') as hf:\n",
    "        hf.create_dataset(\"pulseoptim_inf\",  data=pulseoptim_inf)\n",
    "        hf.create_dataset(\"grape_inf\",  data= grape_inf)"
   ]
  },
  {
   "cell_type": "code",
   "execution_count": null,
   "metadata": {},
   "outputs": [],
   "source": []
  },
  {
   "cell_type": "code",
   "execution_count": null,
   "metadata": {},
   "outputs": [],
   "source": []
  },
  {
   "cell_type": "code",
   "execution_count": null,
   "metadata": {},
   "outputs": [],
   "source": []
  },
  {
   "cell_type": "code",
   "execution_count": null,
   "metadata": {},
   "outputs": [],
   "source": []
  },
  {
   "cell_type": "code",
   "execution_count": null,
   "metadata": {},
   "outputs": [],
   "source": []
  },
  {
   "cell_type": "code",
   "execution_count": null,
   "metadata": {},
   "outputs": [],
   "source": []
  }
 ],
 "metadata": {
  "kernelspec": {
   "display_name": "Python [conda env:base] *",
   "language": "python",
   "name": "conda-base-py"
  },
  "language_info": {
   "codemirror_mode": {
    "name": "ipython",
    "version": 3
   },
   "file_extension": ".py",
   "mimetype": "text/x-python",
   "name": "python",
   "nbconvert_exporter": "python",
   "pygments_lexer": "ipython3",
   "version": "3.12.7"
  }
 },
 "nbformat": 4,
 "nbformat_minor": 4
}
