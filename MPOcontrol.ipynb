{
 "cells": [
  {
   "cell_type": "markdown",
   "id": "2ddcffcb-ff9b-4b64-bb8b-f12848b4c59b",
   "metadata": {},
   "source": [
    "# Operations with matrix product operators"
   ]
  },
  {
   "cell_type": "markdown",
   "id": "a351041e-be7c-4a33-9863-33acdd91988e",
   "metadata": {},
   "source": [
    "## Create the MPO we want"
   ]
  },
  {
   "cell_type": "code",
   "execution_count": 242,
   "id": "8d0aa80c-5a04-47c1-9a89-a760aa053c06",
   "metadata": {},
   "outputs": [],
   "source": [
    "import numpy as np\n",
    "import sympy as sp\n",
    "from scipy.special import jn\n",
    "from scipy.linalg import expm, logm\n",
    "import qutip as qt\n",
    "import matplotlib.pyplot as plt\n",
    "import copy\n",
    "from sympy import expand\n",
    "from matplotlib import cbook\n",
    "import psutil\n",
    "import time"
   ]
  },
  {
   "cell_type": "code",
   "execution_count": 243,
   "id": "27ecd461-66a6-41d1-a0cd-cb9959af29df",
   "metadata": {},
   "outputs": [],
   "source": [
    "# Pauli Z matrix\n",
    "sigma_z = np.array([[1.0+0*1j, 0], [0, -1]])\n",
    "\n",
    "# Identity matrix\n",
    "I = np.eye(2)\n",
    "\n",
    "def create_H0_mpo(N, g):\n",
    "    \"\"\"\n",
    "    Creates the MPO for H0 = sum_i g_i sigma_i^z.\n",
    "\n",
    "    Args:\n",
    "        N (int): Number of qubits.\n",
    "        g: Coefficients of g.\n",
    "\n",
    "    Returns:\n",
    "        list of np.ndarray: MPO tensors for H0.\n",
    "    \"\"\"\n",
    "    \n",
    "    mpo = []\n",
    "    for i in range(N):\n",
    "\n",
    "        if i == 0:\n",
    "            # First tensor\n",
    "            tensor = np.zeros((1, 2, 2, 2), dtype=object)  # Bond dimension r=2\n",
    "            tensor[0,0, :, :] = I\n",
    "            tensor[0,1, :, :] = g * sigma_z\n",
    "        elif i == N - 1:\n",
    "            # Last tensor\n",
    "            tensor = np.zeros((2, 1, 2, 2), dtype=object)  # Bond dimension r=2\n",
    "            tensor[0,0, :, :] = g * sigma_z\n",
    "            tensor[1,0, :, :] = I\n",
    "        else:\n",
    "            # Middle tensors\n",
    "            tensor = np.zeros((2, 2, 2, 2), dtype=object)  # Bond dimension r=2\n",
    "            tensor[0,0, :, :] = I\n",
    "            tensor[0,1, :, :] = g * sigma_z\n",
    "            tensor[1,1, :, :] = I\n",
    "        mpo.append(tensor)\n",
    "        \n",
    "    return mpo"
   ]
  },
  {
   "cell_type": "code",
   "execution_count": 244,
   "id": "bd4d8ba9-25ac-4936-9bec-f8bdc607e8f1",
   "metadata": {},
   "outputs": [],
   "source": [
    "# Pauli X matrix\n",
    "sigma_x = np.array([[0, 1.0], [1.0, 0]])\n",
    "\n",
    "def create_Hc_mpo(N):\n",
    "    \"\"\"\n",
    "    Creates the MPO for Hc = sum_i sigma_i^x.\n",
    "\n",
    "    Args:\n",
    "        N (int): Number of qubits.\n",
    "\n",
    "    Returns:\n",
    "        list of np.ndarray: MPO tensors for Hc.\n",
    "    \"\"\"\n",
    "    \n",
    "    mpo = []\n",
    "    for i in range(N):\n",
    "\n",
    "        if i == 0:\n",
    "            # First tensor\n",
    "            tensor = np.zeros((1, 2, 2, 2), dtype=object)  # Bond dimension r=2\n",
    "            tensor[0,0, :, :] = I\n",
    "            tensor[0,1, :, :] = sigma_x\n",
    "        elif i == N - 1:\n",
    "            # Last tensor\n",
    "            tensor = np.zeros((2, 1, 2, 2), dtype=object)  # Bond dimension r=2\n",
    "            tensor[0,0, :, :] = sigma_x\n",
    "            tensor[1,0, :, :] = I\n",
    "        else:\n",
    "            # Middle tensors\n",
    "            tensor = np.zeros((2, 2, 2, 2), dtype=object)  # Bond dimension r=2\n",
    "            tensor[0,0, :, :] = I\n",
    "            tensor[0,1, :, :] = sigma_x\n",
    "            tensor[1,1, :, :] = I\n",
    "        mpo.append(tensor)\n",
    "        \n",
    "    return mpo"
   ]
  },
  {
   "cell_type": "code",
   "execution_count": 245,
   "id": "28b3f82f-cfef-427b-8fe3-816d4db16fb8",
   "metadata": {},
   "outputs": [],
   "source": [
    "def create_I_mpo(N):\n",
    "\n",
    "    mpo = []\n",
    "    for i in range(N):\n",
    "        tensor = np.zeros((1, 1, 2, 2), dtype=object)  # Bond dimension r=1\n",
    "        tensor[0,0, :, :] = I\n",
    "        mpo.append(tensor)\n",
    "\n",
    "    return mpo\n",
    "        "
   ]
  },
  {
   "cell_type": "markdown",
   "id": "3038bf07-a028-41b5-8171-e165805644a4",
   "metadata": {},
   "source": [
    "## Define the functions to operate (sum, product)"
   ]
  },
  {
   "cell_type": "code",
   "execution_count": 246,
   "id": "d3a3095a-c524-4e1e-b1a0-555f3a5950e9",
   "metadata": {},
   "outputs": [],
   "source": [
    "def add(mpo1,mpo2):\n",
    "\n",
    "    assert len(mpo1) == len(mpo2)\n",
    "\n",
    "    new_mpo = []\n",
    "\n",
    "    ## First we add the empty first boundary to the new list of core tensors\n",
    "    new_mpo.append(np.zeros((1,mpo1[0].shape[1]+mpo2[0].shape[1],2,2), dtype=object))\n",
    "\n",
    "    ## Add the rectangular tensors in the center\n",
    "    if len(mpo1)>2:\n",
    "        for i in range(1,len(mpo1)-1):\n",
    "            new_mpo.append(np.zeros((mpo1[i].shape[0]+mpo2[i].shape[0],mpo1[i].shape[1]+mpo2[i].shape[1],2,2), dtype=object))\n",
    "\n",
    "    ## Add the last ending boundary of the list of tensors\n",
    "    new_mpo.append(np.zeros((mpo1[len(mpo1)-1].shape[0]+mpo2[len(mpo2)-1].shape[0],1,2,2), dtype=object))\n",
    "\n",
    "    ## Compute the tensors for the boundaries\n",
    "    for j in range(mpo1[0].shape[1]):\n",
    "        new_mpo[0][0,j,:,:] = mpo1[0][0,j,:,:]\n",
    "    for k in range(mpo2[0].shape[1]):\n",
    "        new_mpo[0][0,mpo1[0].shape[1]+k,:,:] = mpo2[0][0,k,:,:]\n",
    "\n",
    "    for j in range(mpo1[len(mpo1)-1].shape[0]):\n",
    "        new_mpo[len(mpo1)-1][j,0,:,:] = mpo1[len(mpo1)-1][j,0,:,:]\n",
    "    for k in range(mpo2[len(mpo2)-1].shape[0]):\n",
    "        new_mpo[len(mpo2)-1][mpo1[len(mpo1)-1].shape[0]+k,0,:,:] = mpo2[len(mpo2)-1][k,0,:,:]\n",
    "\n",
    "    ## Now the tensors in the middle\n",
    "    if len(mpo1)>2:\n",
    "        for i in range(1,len(mpo1)-1):\n",
    "            for j in range(mpo1[i].shape[0]):\n",
    "                for k in range(mpo1[i].shape[1]):\n",
    "                    new_mpo[i][j,k,:,:] = mpo1[i][j,k,:,:]\n",
    "    \n",
    "            for j in range(mpo2[i].shape[0]):\n",
    "                    for k in range(mpo2[i].shape[1]):\n",
    "                        new_mpo[i][mpo1[i].shape[0]+j,mpo1[i].shape[1]+k,:,:] = mpo2[i][j,k,:,:]\n",
    "    \n",
    "    return new_mpo"
   ]
  },
  {
   "cell_type": "code",
   "execution_count": 247,
   "id": "ac7df4eb-e5d1-4d65-83a6-6d90a971fee3",
   "metadata": {},
   "outputs": [],
   "source": [
    "def prod_scalar(mpo, c):\n",
    "    new_mpo = [np.copy(tensor) for tensor in mpo]  # Make a deep copy\n",
    "    for i in range(new_mpo[0].shape[0]):\n",
    "        for j in range(new_mpo[0].shape[1]):\n",
    "            for k in range(new_mpo[0].shape[2]):\n",
    "                for l in range(new_mpo[0].shape[3]):\n",
    "                    new_mpo[0][i, j, k, l] *= c\n",
    "    return new_mpo"
   ]
  },
  {
   "cell_type": "code",
   "execution_count": 248,
   "id": "558f82fe-34dc-4011-9fac-dfb7212e3934",
   "metadata": {},
   "outputs": [],
   "source": [
    "def prod(mpo1,mpo2):\n",
    "    \n",
    "    assert len(mpo1) == len(mpo2)\n",
    "\n",
    "    new_mpo = []\n",
    "\n",
    "    ## First we add the empty first boundary to the new list of core tensors\n",
    "    new_mpo.append(np.zeros((1,mpo1[0].shape[1]*mpo2[0].shape[1],2,2), dtype=object))\n",
    "\n",
    "    ## Add the rectangular tensors in the center\n",
    "    if len(mpo1)>2:\n",
    "        for i in range(1,len(mpo1)-1):\n",
    "            new_mpo.append(np.zeros((mpo1[i].shape[0]*mpo2[i].shape[0],mpo1[i].shape[1]*mpo2[i].shape[1],2,2), dtype=object))\n",
    "\n",
    "    ## Add the last ending boundary of the list of tensors\n",
    "    new_mpo.append(np.zeros((mpo1[len(mpo1)-1].shape[0]*mpo2[len(mpo2)-1].shape[0],1,2,2), dtype=object))\n",
    "\n",
    "    ## Compute the tensors for the boundaries\n",
    "    for j in range(mpo1[0].shape[1]):\n",
    "        for k in range(mpo2[0].shape[1]):\n",
    "            new_mpo[0][0,k+j*(mpo2[0].shape[1]),:,:] = np.outer(mpo1[0][0,j,:,0],mpo2[0][0,k,0,:])+np.outer(mpo1[0][0,j,:,1],mpo2[0][0,k,1,:])\n",
    "\n",
    "    for j in range(mpo1[len(mpo1)-1].shape[0]):\n",
    "        for k in range(mpo2[len(mpo2)-1].shape[0]):\n",
    "            new_mpo[len(mpo1)-1][k+j*(mpo2[len(mpo2)-1].shape[0]),0,:,:] = np.outer(mpo1[len(mpo1)-1][j,0,:,0],mpo2[len(mpo2)-1][k,0,0,:])+np.outer(mpo1[len(mpo1)-1][j,0,:,1],mpo2[len(mpo2)-1][k,0,1,:])\n",
    "\n",
    "\n",
    "    ## Now we compute the values of the intermediate tensor cores\n",
    "    if len(mpo1)>2:\n",
    "        ## For each core tensor\n",
    "        for i in range(1,len(mpo1)-1):\n",
    "            ## Take each element of the first tensor\n",
    "            for j in range(mpo1[i].shape[0]):\n",
    "                for k in range(mpo1[i].shape[1]):\n",
    "\n",
    "                    ## Compute with all the elements of the equivalent tensor in second mpo\n",
    "                    for s in range(mpo2[i].shape[0]):\n",
    "                        for t in range(mpo2[i].shape[1]):\n",
    "                            new_mpo[i][s+j*(mpo2[i].shape[1]),t+k*(mpo2[i].shape[1]),:,:] = np.outer(mpo1[i][j,k,:,0],mpo2[i][s,t,0,:])+np.outer(mpo1[i][j,k,:,1],mpo2[i][s,t,1,:])\n",
    "\n",
    "    return new_mpo"
   ]
  },
  {
   "cell_type": "code",
   "execution_count": 249,
   "id": "34655f52-ee54-4a26-97ee-a1a10a7de933",
   "metadata": {},
   "outputs": [],
   "source": [
    "def commutator(mpo1,mpo2):\n",
    "    return add(prod(mpo1,mpo2),prod_scalar(prod(mpo2,mpo1),-1))"
   ]
  },
  {
   "cell_type": "code",
   "execution_count": 250,
   "id": "93e6f253-c485-4d80-b81e-393729b8b770",
   "metadata": {},
   "outputs": [],
   "source": [
    "def trace_mpo(mpo1):\n",
    "\n",
    "    mat = []\n",
    "\n",
    "     ## First we add the empty first boundary to the new list of core tensors\n",
    "    mat.append(np.zeros((1,mpo1[0].shape[1]), dtype=object))\n",
    "\n",
    "     ## Add the rectangular tensors in the center\n",
    "    if len(mpo1)>2:\n",
    "        for i in range(1,len(mpo1)-1):\n",
    "            mat.append(np.zeros((mpo1[i].shape[0],mpo1[i].shape[1]), dtype=object))\n",
    "\n",
    "    ## Add the last ending boundary of the list of tensors\n",
    "    mat.append(np.zeros((mpo1[len(mpo1)-1].shape[0],1), dtype=object))\n",
    "\n",
    "    for i in range(2):\n",
    "        for j in range(mpo1[0].shape[1]):\n",
    "            mat[0][0,j] = mat[0][0,j] + mpo1[0][0,j,i,i]\n",
    "\n",
    "    for i in range(2):\n",
    "        for j in range(mpo1[len(mpo1)-1].shape[0]):\n",
    "            mat[len(mpo1)-1][j,0] = mat[len(mpo1)-1][j,0] + mpo1[len(mpo1)-1][j,0,i,i]\n",
    "\n",
    "    if len(mpo1)>2:\n",
    "        for i in range(1,len(mpo1)-1):\n",
    "            for j in range(0,2):\n",
    "                for k in range(mpo1[i].shape[0]):\n",
    "                    for l in range(mpo1[i].shape[1]): \n",
    "                        mat[i][k,l] = mat[i][k,l] + mpo1[i][k,l,j,j]\n",
    "                        \n",
    "\n",
    "    ## Now contract the list of matrices, which are the previous tensors without the physical index, to get a single scalar\n",
    "    result = mat[0].copy()\n",
    "    for i in range(1, len(mat)):\n",
    "        result = result @ mat[i]\n",
    "        \n",
    "    trace = result.item()\n",
    "\n",
    "    \n",
    "    return trace"
   ]
  },
  {
   "cell_type": "markdown",
   "id": "0b89c962-440d-491e-a073-0903c666e862",
   "metadata": {},
   "source": [
    "## From MPO to full matrix"
   ]
  },
  {
   "cell_type": "code",
   "execution_count": 251,
   "id": "346a49f6-a90a-4974-a703-9f5703bc2736",
   "metadata": {},
   "outputs": [],
   "source": [
    "def contract(mpo):\n",
    "    ## Create list for recursive multiplication of matrices, step by step\n",
    "    mpo_contracted = []\n",
    "    ## We define the first one as it's fixed\n",
    "    mpo_contracted.append(mpo[0])\n",
    "    for n in range(len(mpo)-1):\n",
    "        ## For the first compression starting left to right we set an empty compressed tensor\n",
    "        mpo_contracted.append(np.zeros((mpo[n].shape[0],mpo[n+1].shape[1],2**(n+2),2**(n+2)), dtype=object))\n",
    "            \n",
    "        for i in range(mpo[n+1].shape[1]):\n",
    "            ## Now go over every element and take matrix multiplication with kronecker product\n",
    "            mpo_comp = 0\n",
    "            for j in range(mpo[n].shape[1]):\n",
    "                mpo_comp += np.kron((mpo_contracted[n])[0,j,:,:],(mpo[n+1])[j,i,:,:])\n",
    "\n",
    "                ## Add in the list to continue with the next compression\n",
    "                (mpo_contracted[n+1])[0,i] = mpo_comp\n",
    "                \n",
    "    return mpo_contracted[len(mpo)-1][0][0]"
   ]
  },
  {
   "cell_type": "code",
   "execution_count": 252,
   "id": "9126a0e6-8d82-49a8-abe9-b8f3f8d8fdef",
   "metadata": {},
   "outputs": [],
   "source": [
    "def commute(M1,M2):\n",
    "    return (M1 @ M2) - (M2 @ M1) "
   ]
  },
  {
   "cell_type": "markdown",
   "id": "93e22fcb-b69e-45ea-b40d-15c02faa11a5",
   "metadata": {},
   "source": [
    "## Bond reduction of the tensors"
   ]
  },
  {
   "cell_type": "code",
   "execution_count": 253,
   "id": "14c3dde7-636c-46ae-94f2-e3ab53f3e536",
   "metadata": {},
   "outputs": [],
   "source": [
    "def reduce(mpo, bond_dimension):\n",
    "\n",
    "    new_mpo = []\n",
    "    return new_mpo"
   ]
  },
  {
   "cell_type": "markdown",
   "id": "37c442a2-8ddb-412d-b976-30906d0cde8c",
   "metadata": {},
   "source": [
    "## Magnus and Chebyshev approximations for evolution"
   ]
  },
  {
   "cell_type": "code",
   "execution_count": 254,
   "id": "316261ab-9d28-4e4a-b3ad-2592cc0b7500",
   "metadata": {},
   "outputs": [],
   "source": [
    "def Magnus_mpo(mpo_H0,mpo_Hc,u,x,T):\n",
    "\n",
    "    \"\"\"\n",
    "   First step to solve the time-dependent Schrödinger equation via Magnus expansion.\n",
    "\n",
    "    Parameters:\n",
    "    - mpo_H0: numpy array, static Hamiltonian as mpo\n",
    "    - mpo_Hc: numpy array, control Hamiltonian as mpo\n",
    "    - u: function u(t) defining time dependence\n",
    "    - T: float, total evolution time\n",
    "\n",
    "    Returns:\n",
    "    - M: Magnus series\n",
    "    \"\"\"\n",
    "\n",
    "    ## Magnus series (order 2)\n",
    "    t1, t2, t3 = sp.symbols('t1 t2 t3')\n",
    "\n",
    "    a = -1j*sp.integrate(1,(t1,0,T))\n",
    "    b = -1j*sp.integrate(u(t1,x), (t1, 0, T)) \n",
    "\n",
    "    M1 = add(prod_scalar(mpo_H0,a),prod_scalar(mpo_Hc,b))\n",
    "\n",
    "    c = -1/2 * sp.integrate(sp.integrate(u(t2,x)-u(t1,x),(t2,0,t1)),(t1,0,T))\n",
    "\n",
    "    M2 = prod_scalar(commutator(mpo_H0,mpo_Hc),c)\n",
    "\n",
    "    d = 1j/6 * sp.integrate(sp.integrate(sp.integrate(u(t3,x)-2*u(t2,x)+u(t1,x),(t3,0,t2)),(t2,0,t1)),(t1,0,T))\n",
    "    e = 1j/6 * sp.integrate(sp.integrate(sp.integrate(2*u(t1,x)*u(t3,x)-u(t1,x)*u(t2,x)-u(t2,x)*u(t3,x),(t3,0,t2)),(t2,0,t1)),(t1,0,T))\n",
    "\n",
    "    M3 = add(prod_scalar(commutator(mpo_H0,commutator(mpo_H0,mpo_Hc)),d),prod_scalar(commutator(commutator(mpo_Hc,mpo_H0),mpo_Hc),e))\n",
    "    \n",
    "    M = add(M1,M2)\n",
    "\n",
    "    return M"
   ]
  },
  {
   "cell_type": "code",
   "execution_count": 255,
   "id": "45cf9b47-a689-4814-8f6d-e30c5c6d9903",
   "metadata": {},
   "outputs": [],
   "source": [
    "def Magnus(H0,Hc,u,x,T):\n",
    "\n",
    "    \"\"\"\n",
    "   First step to solve the time-dependent Schrödinger equation via Magnus expansion.\n",
    "\n",
    "    Parameters:\n",
    "    - mpo_H0: numpy array, static Hamiltonian as mpo\n",
    "    - mpo_Hc: numpy array, control Hamiltonian as mpo\n",
    "    - u: function u(t) defining time dependence\n",
    "    - T: float, total evolution time\n",
    "\n",
    "    Returns:\n",
    "    - M: Magnus series\n",
    "    \"\"\"\n",
    "    def commute(M1,M2):\n",
    "        return (M1 @ M2) - (M2 @ M1)\n",
    "\n",
    "    ## Magnus series (order 2)\n",
    "    t1, t2, t3 = sp.symbols('t1 t2 t3')\n",
    "\n",
    "    a = -1j*sp.integrate(1,(t1,0,T))\n",
    "    b = -1j*sp.integrate(u(t1,x), (t1, 0, T)) \n",
    "\n",
    "    M1 = (a*H0) + (b*Hc)\n",
    "\n",
    "    c = -1/2 * sp.integrate(sp.integrate(u(t2,x)-u(t1,x),(t2,0,t1)),(t1,0,T))\n",
    "\n",
    "    M2 = c*commute(H0,Hc)\n",
    "\n",
    "    d = 1j/6 * sp.integrate(sp.integrate(sp.integrate(u(t3,x)-2*u(t2,x)+u(t1,x),(t3,0,t2)),(t2,0,t1)),(t1,0,T))\n",
    "    e = 1j/6 * sp.integrate(sp.integrate(sp.integrate(2*u(t1,x)*u(t3,x)-u(t1,x)*u(t2,x)-u(t2,x)*u(t3,x),(t3,0,t2)),(t2,0,t1)),(t1,0,T))\n",
    "\n",
    "    M3 = d*(commute(H0,commute(H0,Hc))) + e*(commute(commute(Hc,H0),Hc))\n",
    "    \n",
    "    M = M1 + M2\n",
    "\n",
    "    return M"
   ]
  },
  {
   "cell_type": "code",
   "execution_count": 256,
   "id": "f0a00c2a-cc73-4fb3-bf35-a185939c5cf4",
   "metadata": {},
   "outputs": [],
   "source": [
    "def Magnus_transpose(H0,Hc,u,x,T):\n",
    "\n",
    "    \"\"\"\n",
    "   First step to solve the time-dependent Schrödinger equation via Magnus expansion.\n",
    "\n",
    "    Parameters:\n",
    "    - mpo_H0: numpy array, static Hamiltonian as mpo\n",
    "    - mpo_Hc: numpy array, control Hamiltonian as mpo\n",
    "    - u: function u(t) defining time dependence\n",
    "    - T: float, total evolution time\n",
    "\n",
    "    Returns:\n",
    "    - M: Magnus series\n",
    "    \"\"\"\n",
    "    def commute(M1,M2):\n",
    "        return (M1 @ M2) - (M2 @ M1)\n",
    "\n",
    "    ## Magnus series (order 2)\n",
    "    t1, t2, t3 = sp.symbols('t1 t2 t3')\n",
    "\n",
    "    a = -1j*sp.integrate(1,(t1,0,T))\n",
    "    b = -1j*sp.integrate(u(t1,x), (t1, 0, T)) \n",
    "\n",
    "    M1 = (a*H0) + (b*Hc)\n",
    "\n",
    "    c = -1/2 * sp.integrate(sp.integrate(u(t2,x)-u(t1,x),(t2,0,t1)),(t1,0,T))\n",
    "\n",
    "    M2 = c*commute(H0,Hc)\n",
    "\n",
    "    d = 1j/6 * sp.integrate(sp.integrate(sp.integrate(u(t3,x)-2*u(t2,x)+u(t1,x),(t3,0,t2)),(t2,0,t1)),(t1,0,T))\n",
    "    e = 1j/6 * sp.integrate(sp.integrate(sp.integrate(2*u(t1,x)*u(t3,x)-u(t1,x)*u(t2,x)-u(t2,x)*u(t3,x),(t3,0,t2)),(t2,0,t1)),(t1,0,T))\n",
    "\n",
    "    M3 = d*(commute(H0,commute(H0,Hc))) + e*(commute(commute(Hc,H0),Hc))\n",
    "    \n",
    "    M = -M1 - M2\n",
    "\n",
    "    return M"
   ]
  },
  {
   "cell_type": "code",
   "execution_count": 257,
   "id": "21ff38c9-3045-4a4a-93db-fef7b2811e61",
   "metadata": {},
   "outputs": [],
   "source": [
    "def Chebyshev_mpo(mpo,N):\n",
    "    \"\"\" \n",
    "    Approximation of exponentiation of Magnus series to find the solution to the Schrödinger equation\n",
    "    \"\"\"\n",
    "\n",
    "    ##Bessel function constants\n",
    "    \n",
    "    a = jn(0,1)+2*jn(2,1)\n",
    "    b = 2*jn(1,1)\n",
    "    c = 4*jn(2,1)\n",
    "\n",
    "    C1 = prod_scalar(create_I_mpo(N),a)\n",
    "    C2 = prod_scalar(mpo,b)\n",
    "    C3 = prod_scalar(prod(mpo,mpo),c)\n",
    "\n",
    "    C = add(C1,C2)\n",
    "\n",
    "    \n",
    "    return C"
   ]
  },
  {
   "cell_type": "code",
   "execution_count": 258,
   "id": "767107f5-c51c-44d3-9c0f-f20029f0bf56",
   "metadata": {},
   "outputs": [],
   "source": [
    "def Chebyshev(M,N):\n",
    "    \"\"\" \n",
    "    Approximation of exponentiation of Magnus series to find the solution to the Schrödinger equation\n",
    "    \"\"\"\n",
    "\n",
    "    ##Bessel function constants\n",
    "    \n",
    "    a = jn(0,1)+2*jn(2,1)\n",
    "    b = 2*jn(1,1)\n",
    "    c = 4*jn(2,1)\n",
    "\n",
    "    C1 = a*np.eye(M.shape[0])\n",
    "    C2 = b*M\n",
    "    C3 = (c*M) @ M\n",
    "\n",
    "    C = C1+C2\n",
    "\n",
    "    \n",
    "    return C"
   ]
  },
  {
   "cell_type": "code",
   "execution_count": 259,
   "id": "8ebc1eca-413b-4255-9f7d-702ba960bd08",
   "metadata": {},
   "outputs": [],
   "source": [
    "def Magnus_mpo_transpose(mpo_H0,mpo_Hc,u,x,T):\n",
    "\n",
    "    \"\"\"\n",
    "   First step to solve the time-dependent Schrödinger equation via Magnus expansion.\n",
    "\n",
    "    Parameters:\n",
    "    - mpo_H0: numpy array, static Hamiltonian as mpo\n",
    "    - mpo_Hc: numpy array, control Hamiltonian as mpo\n",
    "    - u: function u(t) defining time dependence\n",
    "    - T: float, total evolution time\n",
    "\n",
    "    Returns:\n",
    "    - M: Magnus series\n",
    "    \"\"\"\n",
    "\n",
    "    ## Magnus series (order 2)\n",
    "    t1, t2, t3 = sp.symbols('t1 t2 t3')\n",
    "\n",
    "    a = -1j*sp.integrate(1,(t1,0,T))\n",
    "    b = -1j*sp.integrate(u(t1,x), (t1, 0, T)) \n",
    "\n",
    "    M1 = add(prod_scalar(mpo_H0,a),prod_scalar(mpo_Hc,b))\n",
    "\n",
    "    c = -1/2 * sp.integrate(sp.integrate(u(t2,x)-u(t1,x),(t2,0,t1)),(t1,0,T))\n",
    "\n",
    "    M2 = prod_scalar(commutator(mpo_H0,mpo_Hc),c)\n",
    "\n",
    "    d = 1j/6 * sp.integrate(sp.integrate(sp.integrate(u(t3,x)-2*u(t2,x)+u(t1,x),(t3,0,t2)),(t2,0,t1)),(t1,0,T))\n",
    "    e = 1j/6 * sp.integrate(sp.integrate(sp.integrate(2*u(t1,x)*u(t3,x)-u(t1,x)*u(t2,x)-u(t2,x)*u(t3,x),(t3,0,t2)),(t2,0,t1)),(t1,0,T))\n",
    "\n",
    "    M3 = add(prod_scalar(commutator(mpo_H0,commutator(mpo_H0,mpo_Hc)),d),prod_scalar(commutator(commutator(mpo_Hc,mpo_H0),mpo_Hc),e))\n",
    "    \n",
    "    M = add(prod_scalar(M1,-1),prod_scalar(M2,-1))\n",
    "\n",
    "    return M"
   ]
  },
  {
   "cell_type": "markdown",
   "id": "61bd86b4-c73b-4c59-beaa-d868101c3c5c",
   "metadata": {},
   "source": [
    "## Exact evolution"
   ]
  },
  {
   "cell_type": "code",
   "execution_count": 260,
   "id": "20abf984-6795-410e-a26b-81ffc3919e10",
   "metadata": {},
   "outputs": [],
   "source": [
    "def get_unitary(H0, Hc, x, T, timesteps=1000):\n",
    "    \"\"\"\n",
    "    Solves the time-dependent Schrödinger equation and returns the unitary evolution matrix.\n",
    "\n",
    "    Parameters:\n",
    "    - H0: numpy array, static Hamiltonian\n",
    "    - Hc: numpy array, control Hamiltonian\n",
    "    - u: function u(t) defining time dependence\n",
    "    - T: float, total evolution time\n",
    "    - timesteps: int, number of time steps for integration\n",
    "\n",
    "    Returns:\n",
    "    - U_T: numpy array, final unitary matrix at time T\n",
    "    \"\"\"\n",
    "    def u(t, args):\n",
    "        x = args['x']  # Retrieve control parameters correctly from args\n",
    "        return x[0] + x[1] * t + x[2] * t**2\n",
    "    \n",
    "    # Convert matrices to Qobj\n",
    "    H0_q = qt.Qobj(H0)\n",
    "    Hc_q = qt.Qobj(Hc)\n",
    "\n",
    "    # Time-dependent Hamiltonian\n",
    "    H = [H0_q, [Hc_q, u]]\n",
    "\n",
    "    # Initial state (identity operator for unitary evolution)\n",
    "    identity = qt.qeye(H0.shape[0])\n",
    "    psi0 = identity\n",
    "\n",
    "    # Time array\n",
    "    tlist = np.linspace(0, T, timesteps)\n",
    "\n",
    "    # Solve Schrödinger equation\n",
    "    result = qt.sesolve(H, qt.qeye(H0.shape[0]), tlist, args={'x': x})\n",
    "\n",
    "    # Extract final unitary matrix\n",
    "    U_T = result.states[-1].full()\n",
    "\n",
    "    return U_T"
   ]
  },
  {
   "cell_type": "code",
   "execution_count": 261,
   "id": "3711b9e0-93db-41a1-8611-734414da8530",
   "metadata": {},
   "outputs": [],
   "source": [
    "def log(U):\n",
    "    \n",
    "    eigvals, eigvecs = np.linalg.eig(U)\n",
    "\n",
    "    log_eigvals = np.diag(np.log(eigvals))\n",
    "\n",
    "    # Reconstruct the logarithm of the matrix\n",
    "    log_U = eigvecs @ log_eigvals @ np.linalg.inv(eigvecs)\n",
    "    \n",
    "    return log_U"
   ]
  },
  {
   "cell_type": "code",
   "execution_count": 262,
   "id": "7f1cf01b-ee1f-41b2-b1fe-898b7245e93e",
   "metadata": {},
   "outputs": [],
   "source": [
    "def err_fidelity(U,V):\n",
    "\n",
    "    ## Computes the fidelity error: 1-fidelity\n",
    "\n",
    "    d = U.shape[0]  # Dimension of the unitary matrices\n",
    "    fidelity = (np.abs(np.trace(np.conj(U.T) @ V)) / d) ** 2\n",
    "    return np.abs(1 - fidelity)"
   ]
  },
  {
   "cell_type": "code",
   "execution_count": 263,
   "id": "7cf335ac-f69e-4f74-b8e3-bce3f68184b2",
   "metadata": {},
   "outputs": [],
   "source": [
    "def square_frob(A):\n",
    "    return sum(sp.re(np.conjugate(z) * z) for row in A for z in row)"
   ]
  },
  {
   "cell_type": "code",
   "execution_count": 264,
   "id": "250332d6-134e-472a-b5b4-804e53bcf7ed",
   "metadata": {},
   "outputs": [],
   "source": [
    "def full_compare(N,g,T):\n",
    "\n",
    "    ## Compare (error) the exact solution to the MPO solution with Magnus and M+C\n",
    "    \n",
    "    mpo1 = prod_scalar(create_H0_mpo(N,g),1/np.linalg.norm(contract(create_H0_mpo(N,g))))\n",
    "    mpo2 = prod_scalar(create_Hc_mpo(N),1/np.linalg.norm(contract(create_Hc_mpo(N))))\n",
    "    H0 = contract(mpo1)\n",
    "    Hc = contract(mpo2)\n",
    "\n",
    "    ## Define the control function\n",
    "    def u(t):\n",
    "        return 1-t+t**2\n",
    "\n",
    "    U_exact = get_unitary(H0,Hc,u, T)\n",
    "    Mag = Magnus_mpo(mpo1,mpo2,u, T)\n",
    "    U_computed = Chebyshev_mpo(Mag,N)\n",
    "\n",
    "    Err1 = err_fidelity(U_exact,expm(contract(Mag)))\n",
    "    Err2 = err_fidelity(U_exact,contract(U_computed))\n",
    "    Err3 = np.linalg.norm(U_exact-expm(contract(Mag)))\n",
    "    Err4 = np.linalg.norm(U_exact-contract(U_computed))\n",
    "\n",
    "    return Err1, Err2, Err3, Err4"
   ]
  },
  {
   "cell_type": "code",
   "execution_count": 295,
   "id": "c2fa6f1c-72e9-4394-80c9-5b5f04652763",
   "metadata": {},
   "outputs": [],
   "source": [
    "def compare_time_mem(N,g,T,u):\n",
    "\n",
    "    ## Compare the time and memory it takes to compute with mpo and without\n",
    "\n",
    "    process = psutil.Process()\n",
    "\n",
    "    mem_before = process.memory_info().rss / (1024**2)\n",
    "    start_mpo = time.time()\n",
    "    mpo1 = prod_scalar(create_H0_mpo(N,g),1/2**N)\n",
    "    mpo2 = prod_scalar(create_Hc_mpo(N),1/2**N)\n",
    "    Mag = Magnus_mpo(mpo1,mpo2,u,x, T)\n",
    "    MagT = Magnus_mpo_transpose(mpo1,mpo2,u,x, T)\n",
    "    J = add(create_Hc_mpo(N),prod_scalar(create_Hc_mpo(N),-np.pi/2))\n",
    "    Obj_mpo = trace_mpo(prod(add(MagT,prod_scalar(J,1j)),add(Mag,prod_scalar(J,-1j))))\n",
    "    time_mpo = time.time() - start_mpo\n",
    "    mem_after = process.memory_info().rss / (1024**2)\n",
    "    mem_mpo = mem_after - mem_before\n",
    "\n",
    "    mem_before = process.memory_info().rss / (1024**2)\n",
    "    start_exact = time.time()\n",
    "    H0 = contract(mpo1)\n",
    "    Hc = contract(mpo2)\n",
    "    Mag = Magnus(H0,Hc,u,x, T)\n",
    "    MagT = Magnus_transpose(H0,Hc,u,x, T)\n",
    "    J_dense = contract(J)\n",
    "    Obj_dense = np.trace((MagT+1j*J_dense)@(Mag-1j*J_dense))\n",
    "    time_exact = time.time() - start_exact\n",
    "    mem_after = process.memory_info().rss / (1024**2)\n",
    "    mem_exact = mem_after - mem_before\n",
    "\n",
    "    return time_exact, time_mpo, mem_exact, mem_mpo"
   ]
  },
  {
   "cell_type": "code",
   "execution_count": 266,
   "id": "f7452510-5b5b-480a-bb42-73bea1a64103",
   "metadata": {},
   "outputs": [],
   "source": [
    "def compare(N,g,T):\n",
    "\n",
    "    ## Compare (error) the exact solution to the MPO solution with Magnus and M+C\n",
    "    \n",
    "    mpo1 = prod_scalar(create_H0_mpo(N,g),1/np.linalg.norm(contract(create_H0_mpo(N,g))))\n",
    "    mpo2 = prod_scalar(create_Hc_mpo(N),1/np.linalg.norm(contract(create_Hc_mpo(N))))\n",
    "    H0 = contract(mpo1)\n",
    "    Hc = contract(mpo2)\n",
    "\n",
    "    ## Define the control function\n",
    "    def u(t):\n",
    "        return 1-t+t**2\n",
    "\n",
    "    U_exact = get_unitary(H0,Hc,u, T)\n",
    "    Mag = Magnus_mpo(mpo1,mpo2,u, T)\n",
    "    U_computed = Chebyshev_mpo(Mag,N)\n",
    "\n",
    "    Err = err_fidelity(U_exact,contract(U_computed))\n",
    "\n",
    "    return Err"
   ]
  },
  {
   "cell_type": "markdown",
   "id": "90f4da95-3be9-403a-9247-003a854461b3",
   "metadata": {},
   "source": [
    "## Example trial"
   ]
  },
  {
   "cell_type": "code",
   "execution_count": 267,
   "id": "97d12495-dc9d-45cc-a906-8a4bacdde520",
   "metadata": {},
   "outputs": [],
   "source": [
    "x1, x2, x3 = sp.symbols('x1 x2 x3')\n",
    "x = [x1,x2,x3]\n",
    "\n",
    "def u2(t,x):\n",
    "    return x[0] + x[1]*t + x[2]*t**2\n",
    "\n",
    "N1 = 7\n",
    "g1 = 1\n",
    "T1 = 0.1"
   ]
  },
  {
   "cell_type": "code",
   "execution_count": 268,
   "id": "94e27270-9dd4-4b00-bf7d-3402d625e155",
   "metadata": {},
   "outputs": [],
   "source": [
    "mpo11 = create_H0_mpo(N1,g1)\n",
    "mpo21 = create_Hc_mpo(N1)\n",
    "H0 = contract(mpo11)\n",
    "Hc = contract(mpo21)"
   ]
  },
  {
   "cell_type": "code",
   "execution_count": 269,
   "id": "add0e83c-2626-4cd6-8c9b-d2e249cbfd35",
   "metadata": {},
   "outputs": [],
   "source": [
    "Mag = Magnus_mpo(mpo11,mpo21,u2,x,T1)\n",
    "MagT = Magnus_mpo_transpose(mpo11,mpo21,u2,x,T1)"
   ]
  },
  {
   "cell_type": "code",
   "execution_count": 270,
   "id": "fc9f2823-8a50-44b3-9a31-4c2578573a57",
   "metadata": {},
   "outputs": [],
   "source": [
    "J = add(create_Hc_mpo(N1),prod_scalar(create_Hc_mpo(N1),-np.pi/2))"
   ]
  },
  {
   "cell_type": "code",
   "execution_count": 271,
   "id": "f9a03007-d975-49aa-b5df-a1f0ea83f7a0",
   "metadata": {},
   "outputs": [],
   "source": [
    "U_exact = expm(contract(J))"
   ]
  },
  {
   "cell_type": "code",
   "execution_count": 272,
   "id": "c449ee06-fa9d-40e6-ae56-2db0e0a5c86e",
   "metadata": {
    "scrolled": true
   },
   "outputs": [],
   "source": [
    "Obj_mpo = trace_mpo(prod(add(MagT,prod_scalar(J,1j)),add(Mag,prod_scalar(J,-1j))))"
   ]
  },
  {
   "cell_type": "code",
   "execution_count": 273,
   "id": "074e7520-8959-4592-bf12-aee8f3e14a45",
   "metadata": {},
   "outputs": [],
   "source": [
    "Obj_mpo = expand(Obj_mpo)"
   ]
  },
  {
   "cell_type": "code",
   "execution_count": 274,
   "id": "29e3b276-ceea-4114-bc0d-a6fcb81c557d",
   "metadata": {},
   "outputs": [],
   "source": [
    "Obj_dense = np.trace((contract(MagT)+1j*contract(J))@(contract(Mag)-1j*contract(J)))"
   ]
  },
  {
   "cell_type": "code",
   "execution_count": 275,
   "id": "e1e27a87-ca2b-47ec-8c8e-83c47a9087cd",
   "metadata": {},
   "outputs": [],
   "source": [
    "Obj_dense = expand(Obj_dense)"
   ]
  },
  {
   "cell_type": "code",
   "execution_count": 276,
   "id": "caad36cf-e8a5-420c-8d78-ae73d99c0f4a",
   "metadata": {},
   "outputs": [
    {
     "data": {
      "text/latex": [
       "$\\displaystyle 8.96 x_{1}^{2} + 0.896 x_{1} x_{2} + 0.0597333333333333 x_{1} x_{3} - 102.286701761645 x_{1} + 0.0224248888888889 x_{2}^{2} + 0.00299164444444445 x_{2} x_{3} - 5.11433508808227 x_{2} + 9.98044444444445 \\cdot 10^{-5} x_{3}^{2} - 0.340955672538818 x_{3} + 300.884368227562$"
      ],
      "text/plain": [
       "8.96*x1**2 + 0.896*x1*x2 + 0.0597333333333333*x1*x3 - 102.286701761645*x1 + 0.0224248888888889*x2**2 + 0.00299164444444445*x2*x3 - 5.11433508808227*x2 + 9.98044444444445e-5*x3**2 - 0.340955672538818*x3 + 300.884368227562"
      ]
     },
     "execution_count": 276,
     "metadata": {},
     "output_type": "execute_result"
    }
   ],
   "source": [
    "Obj_mpo"
   ]
  },
  {
   "cell_type": "code",
   "execution_count": 277,
   "id": "a19dbe26-d91c-4997-ad09-e8bf0c1ce536",
   "metadata": {},
   "outputs": [
    {
     "data": {
      "text/latex": [
       "$\\displaystyle 8.96 x_{1}^{2} + 0.896 x_{1} x_{2} + 0.0597333333333333 x_{1} x_{3} - 102.286701761645 x_{1} + 0.0224248888888889 x_{2}^{2} + 0.00299164444444445 x_{2} x_{3} - 3.97046694025453 \\cdot 10^{-23} i x_{2} x_{3} - 5.11433508808227 x_{2} + 9.98044444444445 \\cdot 10^{-5} x_{3}^{2} - 0.340955672538818 x_{3} + 300.884368227561$"
      ],
      "text/plain": [
       "8.96*x1**2 + 0.896*x1*x2 + 0.0597333333333333*x1*x3 - 102.286701761645*x1 + 0.0224248888888889*x2**2 + 0.00299164444444445*x2*x3 - 3.97046694025453e-23*I*x2*x3 - 5.11433508808227*x2 + 9.98044444444445e-5*x3**2 - 0.340955672538818*x3 + 300.884368227561"
      ]
     },
     "execution_count": 277,
     "metadata": {},
     "output_type": "execute_result"
    }
   ],
   "source": [
    "Obj_dense"
   ]
  },
  {
   "cell_type": "code",
   "execution_count": 278,
   "id": "4553da9c-c78f-4c10-b29a-7be3fbefdc49",
   "metadata": {},
   "outputs": [],
   "source": [
    "import json\n",
    "\n",
    "def sympy_to_julia(expr):\n",
    "    \"\"\"Convert a SymPy expression to a Julia-compatible string.\"\"\"\n",
    "    if isinstance(expr, sp.core.numbers.ImaginaryUnit):\n",
    "        # Handle imaginary unit (I -> im)\n",
    "        return \"im\"\n",
    "    elif expr.is_Number:\n",
    "        # Handle numbers (integers, floats, etc.)\n",
    "        if isinstance(expr, sp.Float):\n",
    "            return f\"{float(expr):.16e}\"  # Convert to Julia-compatible float\n",
    "        elif isinstance(expr, sp.Integer):\n",
    "            return str(int(expr))\n",
    "        else:\n",
    "            return str(expr)\n",
    "    elif expr.is_Symbol:\n",
    "        # Handle symbols (e.g., x, y)\n",
    "        return str(expr)\n",
    "    elif expr.is_Add:\n",
    "        # Handle addition: Add(a, b) -> a + b\n",
    "        return \" + \".join([sympy_to_julia(arg) for arg in expr.args])\n",
    "    elif expr.is_Mul:\n",
    "        # Handle multiplication: Mul(a, b) -> a * b\n",
    "        parts = []\n",
    "        for arg in expr.args:\n",
    "            if isinstance(arg, sp.core.numbers.NegativeOne):\n",
    "                parts.append(\"-\")\n",
    "            else:\n",
    "                parts.append(f\"({sympy_to_julia(arg)})\")\n",
    "        return \" * \".join(parts)\n",
    "    elif expr.is_Pow:\n",
    "        # Handle exponents: Pow(a, b) -> a^b\n",
    "        base = sympy_to_julia(expr.args[0])\n",
    "        exponent = sympy_to_julia(expr.args[1])\n",
    "        return f\"{base}^{exponent}\"\n",
    "    else:\n",
    "        raise NotImplementedError(f\"Unsupported SymPy expression: {expr.func}\")\n",
    "\n",
    "julia_poly = sympy_to_julia(Obj_dense)\n",
    "\n",
    "# Save to JSON\n",
    "with open('polynomial_dense.json', 'w') as f:\n",
    "    json.dump(julia_poly, f, indent=4)"
   ]
  },
  {
   "cell_type": "code",
   "execution_count": 279,
   "id": "cfb6fd6f-9d36-4016-8ffe-ebe3e4094d5e",
   "metadata": {},
   "outputs": [],
   "source": [
    "import json\n",
    "\n",
    "\n",
    "def sympy_to_julia(expr):\n",
    "    \"\"\"Convert a SymPy expression to a Julia-compatible string while preserving structure.\"\"\"\n",
    "    \n",
    "    if isinstance(expr, sp.core.numbers.ImaginaryUnit):\n",
    "        return \"im\"  # Convert imaginary unit\n",
    "    elif expr.is_Number:\n",
    "        return str(expr)  # Keep numbers unchanged\n",
    "    elif expr.is_Symbol:\n",
    "        return str(expr)  # Keep symbols unchanged\n",
    "    elif expr.is_Add:\n",
    "        return \" + \".join(sympy_to_julia(arg) for arg in expr.args)\n",
    "    elif expr.is_Mul:\n",
    "        parts = []\n",
    "        for arg in expr.args:\n",
    "            if arg == -1:\n",
    "                parts.append(\"-\")  # Handle negative numbers correctly\n",
    "            else:\n",
    "                parts.append(sympy_to_julia(arg))\n",
    "        return \" * \".join(parts)\n",
    "    elif expr.is_Pow:\n",
    "        base, exponent = expr.args\n",
    "        return f\"{sympy_to_julia(base)}^{sympy_to_julia(exponent)}\"  # No unnecessary parentheses\n",
    "    else:\n",
    "        raise NotImplementedError(f\"Unsupported SymPy expression: {expr}\")\n",
    "\n",
    "julia_poly = sympy_to_julia(Obj_mpo)\n",
    "\n",
    "# Save to JSON\n",
    "with open('polynomial_mpo.json', 'w') as f:\n",
    "    json.dump(julia_poly, f, indent=4)"
   ]
  },
  {
   "cell_type": "code",
   "execution_count": 280,
   "id": "510d1a20-12fe-4334-bc03-7000c0ca6499",
   "metadata": {},
   "outputs": [],
   "source": [
    "U_approx_dense = get_unitary(H0,Hc,[478.65933841838154,\n",
    " -28377.075229414113,\n",
    " 283770.7162108846],T1)"
   ]
  },
  {
   "cell_type": "code",
   "execution_count": 281,
   "id": "c4ae380f-f287-41af-893b-da8cddb36958",
   "metadata": {},
   "outputs": [
    {
     "data": {
      "text/plain": [
       "0.6146220738173873"
      ]
     },
     "execution_count": 281,
     "metadata": {},
     "output_type": "execute_result"
    }
   ],
   "source": [
    "err_fidelity(U_exact, U_approx_dense)"
   ]
  },
  {
   "cell_type": "code",
   "execution_count": 282,
   "id": "570d8847-8aa2-4cb2-bef4-d3739d199e18",
   "metadata": {},
   "outputs": [],
   "source": [
    "U_approx_mpo = get_unitary(H0,Hc,[-158.52183168224707,\n",
    "   9853.827384811297,\n",
    " -98538.47224676146],T1)"
   ]
  },
  {
   "cell_type": "code",
   "execution_count": 283,
   "id": "5a3899b3-2aa5-4149-89e7-b9646df495af",
   "metadata": {},
   "outputs": [
    {
     "data": {
      "text/plain": [
       "0.5950546411977811"
      ]
     },
     "execution_count": 283,
     "metadata": {},
     "output_type": "execute_result"
    }
   ],
   "source": [
    "err_fidelity(U_exact, U_approx_mpo)"
   ]
  },
  {
   "cell_type": "markdown",
   "id": "51964f7c-9555-4ff5-9879-0ffc9f702863",
   "metadata": {},
   "source": [
    "## Plots"
   ]
  },
  {
   "cell_type": "code",
   "execution_count": 312,
   "id": "1b5cdac7-8ae6-4252-8f5d-1a949847c50d",
   "metadata": {},
   "outputs": [],
   "source": [
    "x1, x2, x3 = sp.symbols('x1 x2 x3')\n",
    "x = [x1,x2,x3]\n",
    "\n",
    "def u(t,x):\n",
    "    return x[0] + x[1]*t + x[2]*t**2\n",
    "\n",
    "N = 9\n",
    "g = 1\n",
    "T = 0.1"
   ]
  },
  {
   "cell_type": "code",
   "execution_count": 313,
   "id": "60242859-3f7f-477d-8da0-4c56edc20212",
   "metadata": {},
   "outputs": [],
   "source": [
    "time_dense = []\n",
    "mem_dense = []\n",
    "time_mpo = []\n",
    "mem_mpo = []\n",
    "\n",
    "for i in range(2,N+1):\n",
    "    print(i)\n",
    "    time1, time2, mem1, mem2 = compare_time_mem(i,g,T,u)\n",
    "    \n",
    "    time_dense.append(time1)\n",
    "    mem_dense.append(mem1)\n",
    "    time_mpo.append(time2)\n",
    "    mem_mpo.append(mem2)"
   ]
  },
  {
   "cell_type": "code",
   "execution_count": 314,
   "id": "82cb5e83-68ba-4c19-bb02-2a27c3700d8d",
   "metadata": {},
   "outputs": [
    {
     "data": {
      "text/plain": [
       "[0.30487871170043945,\n",
       " 0.31637001037597656,\n",
       " 0.391282320022583,\n",
       " 0.7251627445220947,\n",
       " 2.418672561645508,\n",
       " 11.667222738265991,\n",
       " 80.6086254119873,\n",
       " 490.2688627243042]"
      ]
     },
     "execution_count": 314,
     "metadata": {},
     "output_type": "execute_result"
    }
   ],
   "source": [
    "time_dense"
   ]
  },
  {
   "cell_type": "code",
   "execution_count": 316,
   "id": "3b903b40-f5bf-4502-a2a4-57c4406d1a6f",
   "metadata": {},
   "outputs": [
    {
     "data": {
      "image/png": "[encoded data removed]",
      "text/plain": [
       "<Figure size 640x480 with 2 Axes>"
      ]
     },
     "metadata": {},
     "output_type": "display_data"
    }
   ],
   "source": [
    "import matplotlib.pyplot as plt\n",
    "from mpl_toolkits.axes_grid1.inset_locator import inset_axes\n",
    "\n",
    "fig, ax1 = plt.subplots()\n",
    "\n",
    "# Create secondary y-axis\n",
    "ax2 = ax1.twinx()\n",
    "#for j in range(reps):\n",
    "    # Plot memory usage\n",
    "    #ax1.plot(range(2, N+1), memory_mpo[j],linestyle=\"--\", linewidth=1, alpha=0.2, color=\"blue\")  # Solid blue for MPO\n",
    "    \n",
    "    # Plot time usage\n",
    "    #ax2.plot(range(2, N+1), time_mpo[j],linestyle=\"--\", linewidth=1, alpha=0.2, color=\"orange\")  # Solid blue for MPO\n",
    "    \n",
    "# Plot time usage\n",
    "ax1.plot(range(2, N+1), time_mpo, 'b-', label=\"MPO time\")  # Solid blue for MPO\n",
    "ax2.plot(range(2, N+1), mem_mpo,'orange', linestyle='-', label=\"MPO memory\")  # Solid blue for MPO\n",
    "\n",
    "\n",
    "# Plot time usage\n",
    "ax1.plot(range(2, N+1), time_dense, 'b--', label=\"Dense time\")  # Solid blue for MPO\n",
    "ax2.plot(range(2, N+1), mem_dense,'orange', linestyle='--', label=\"Dense memory\")  # Solid blue for MPO\n",
    "\n",
    "# Labels and colors\n",
    "ax1.set_xlabel('Number of qubits')\n",
    "ax1.set_ylabel('Memory (MB)', color='blue')  # Blue for memory axis\n",
    "ax2.set_ylabel('Time (s)', color='orange')  # Green for time axis\n",
    "\n",
    "# Legends (need to combine both axes legends)\n",
    "lines1, labels1 = ax1.get_legend_handles_labels()\n",
    "lines2, labels2 = ax2.get_legend_handles_labels()\n",
    "ax1.legend(lines1 + lines2, labels1 + labels2, loc=\"upper left\")\n",
    "\n",
    "# Save and show plot\n",
    "plt.savefig(\"Time_memory_control_mpo (2,2)\")\n",
    "plt.show()"
   ]
  },
  {
   "cell_type": "code",
   "execution_count": null,
   "id": "f6eaf806-5d1b-4920-8587-48f5d990155c",
   "metadata": {},
   "outputs": [],
   "source": []
  },
  {
   "cell_type": "markdown",
   "id": "878dd5f9-c7ee-48c3-aed5-0b16d76ae6ee",
   "metadata": {},
   "source": [
    "### Compare MPO evolution to exact"
   ]
  },
  {
   "cell_type": "code",
   "execution_count": null,
   "id": "8c0ea89e-968f-4a62-8cba-801fc5d31ad9",
   "metadata": {},
   "outputs": [],
   "source": [
    "N1 = 8\n",
    "g1 = 1\n",
    "T1 = 0.5\n",
    "\n",
    "errs = []\n",
    "\n",
    "for i in range(2,N1+1):\n",
    "    errs.append(compare(i,g1,T1))"
   ]
  },
  {
   "cell_type": "code",
   "execution_count": null,
   "id": "e39469fa-6d9d-4ce7-b79b-47a3f2c45475",
   "metadata": {},
   "outputs": [],
   "source": [
    "plt.plot(range(2,N1+1),errs)\n",
    "plt.xlabel('Number of qubits')\n",
    "plt.ylabel('Infidelity between exact and MPO')"
   ]
  },
  {
   "cell_type": "markdown",
   "id": "e23e607f-2e52-4bea-ad38-5f1963c22637",
   "metadata": {},
   "source": [
    "### Full comparison"
   ]
  },
  {
   "cell_type": "code",
   "execution_count": null,
   "id": "d8fdc67b-adf0-4191-bc2a-0ef1d568c894",
   "metadata": {},
   "outputs": [],
   "source": [
    "err_magnus = []\n",
    "err_cheby = []\n",
    "err_magnus1 = []\n",
    "err_cheby1 = []\n",
    "\n",
    "for i in range(2,N1+1):\n",
    "    err1, err2, err3, err4 = full_compare(i,g1,T1)\n",
    "\n",
    "    err_magnus.append(err1)\n",
    "    err_cheby.append(err2)\n",
    "    err_magnus1.append(err3)\n",
    "    err_cheby1.append(err4)"
   ]
  },
  {
   "cell_type": "code",
   "execution_count": null,
   "id": "0c23a367-0c60-478f-8051-70b3a935fd60",
   "metadata": {},
   "outputs": [],
   "source": [
    "plt.plot(range(2,N1+1),err_magnus)\n",
    "plt.xlabel('Number of qubits')\n",
    "plt.ylabel('Infidelity of Magnus')"
   ]
  },
  {
   "cell_type": "code",
   "execution_count": null,
   "id": "dce1e4e0-0534-4e60-8056-66b80680f7d6",
   "metadata": {},
   "outputs": [],
   "source": [
    "plt.plot(range(2,N1+1),err_cheby)\n",
    "plt.xlabel('Number of qubits')\n",
    "plt.ylabel('Infidelity of Magnus and Chebyshev')"
   ]
  },
  {
   "cell_type": "code",
   "execution_count": null,
   "id": "eeda2a43-670f-419a-b43a-3497b3b0d52e",
   "metadata": {},
   "outputs": [],
   "source": [
    "plt.plot(range(2,N1+1),err_magnus1)\n",
    "plt.xlabel('Number of qubits')\n",
    "plt.ylabel(\"Norm error of Magnus\")"
   ]
  },
  {
   "cell_type": "code",
   "execution_count": null,
   "id": "acedff4c-7169-4b78-9ca0-6b61cf660431",
   "metadata": {},
   "outputs": [],
   "source": [
    "plt.plot(range(2,N1+1),err_cheby1)\n",
    "plt.xlabel('Number of qubits')\n",
    "plt.ylabel('Norm error Magnus and Chebyshev')"
   ]
  },
  {
   "cell_type": "code",
   "execution_count": null,
   "id": "7c6d6c54-985a-4f9d-9ae8-0b0496a87320",
   "metadata": {},
   "outputs": [],
   "source": []
  },
  {
   "cell_type": "code",
   "execution_count": null,
   "id": "4f9f7772-510b-48fb-a5ec-3fb9df239334",
   "metadata": {},
   "outputs": [],
   "source": []
  },
  {
   "cell_type": "code",
   "execution_count": null,
   "id": "2e9514f4-cc06-4402-9e88-63761d553145",
   "metadata": {},
   "outputs": [],
   "source": []
  },
  {
   "cell_type": "code",
   "execution_count": null,
   "id": "7991dac1-a739-450c-a2a0-571092944dad",
   "metadata": {},
   "outputs": [],
   "source": []
  },
  {
   "cell_type": "code",
   "execution_count": null,
   "id": "4d9b730e-0828-4f30-9c3c-a51b0b4261e2",
   "metadata": {},
   "outputs": [],
   "source": []
  }
 ],
 "metadata": {
  "kernelspec": {
   "display_name": "Python 3 (ipykernel)",
   "language": "python",
   "name": "python3"
  },
  "language_info": {
   "codemirror_mode": {
    "name": "ipython",
    "version": 3
   },
   "file_extension": ".py",
   "mimetype": "text/x-python",
   "name": "python",
   "nbconvert_exporter": "python",
   "pygments_lexer": "ipython3",
   "version": "3.12.7"
  }
 },
 "nbformat": 4,
 "nbformat_minor": 5
}
