{
 "cells": [
  {
   "cell_type": "markdown",
   "id": "2ddcffcb-ff9b-4b64-bb8b-f12848b4c59b",
   "metadata": {},
   "source": [
    "# Operations with matrix product operators"
   ]
  },
  {
   "cell_type": "markdown",
   "id": "a351041e-be7c-4a33-9863-33acdd91988e",
   "metadata": {},
   "source": [
    "## Create the MPO we want"
   ]
  },
  {
   "cell_type": "code",
   "execution_count": 251,
   "id": "8d0aa80c-5a04-47c1-9a89-a760aa053c06",
   "metadata": {},
   "outputs": [],
   "source": [
    "import numpy as np\n",
    "import sympy as sp\n",
    "from scipy.special import jn\n",
    "from scipy.linalg import expm, logm\n",
    "import qutip as qt\n",
    "import matplotlib.pyplot as plt"
   ]
  },
  {
   "cell_type": "code",
   "execution_count": 239,
   "id": "27ecd461-66a6-41d1-a0cd-cb9959af29df",
   "metadata": {},
   "outputs": [],
   "source": [
    "# Pauli Z matrix\n",
    "sigma_z = np.array([[1.0+0*1j, 0], [0, -1]])\n",
    "\n",
    "# Identity matrix\n",
    "I = np.eye(2)\n",
    "\n",
    "def create_H0_mpo(N, g):\n",
    "    \"\"\"\n",
    "    Creates the MPO for H0 = sum_i g_i sigma_i^z.\n",
    "\n",
    "    Args:\n",
    "        N (int): Number of qubits.\n",
    "        g: Coefficients of g.\n",
    "\n",
    "    Returns:\n",
    "        list of np.ndarray: MPO tensors for H0.\n",
    "    \"\"\"\n",
    "    \n",
    "    mpo = []\n",
    "    for i in range(N):\n",
    "\n",
    "        if i == 0:\n",
    "            # First tensor\n",
    "            tensor = np.zeros((1, 2, 2, 2), dtype=np.complex128)  # Bond dimension r=2\n",
    "            tensor[0,0, :, :] = I\n",
    "            tensor[0,1, :, :] = g * sigma_z\n",
    "        elif i == N - 1:\n",
    "            # Last tensor\n",
    "            tensor = np.zeros((2, 1, 2, 2), dtype=np.complex128)  # Bond dimension r=2\n",
    "            tensor[0,0, :, :] = g * sigma_z\n",
    "            tensor[1,0, :, :] = I\n",
    "        else:\n",
    "            # Middle tensors\n",
    "            tensor = np.zeros((2, 2, 2, 2), dtype=np.complex128)  # Bond dimension r=2\n",
    "            tensor[0,0, :, :] = I\n",
    "            tensor[0,1, :, :] = g * sigma_z\n",
    "            tensor[1,1, :, :] = I\n",
    "        mpo.append(tensor)\n",
    "        \n",
    "    return mpo"
   ]
  },
  {
   "cell_type": "code",
   "execution_count": 240,
   "id": "bd4d8ba9-25ac-4936-9bec-f8bdc607e8f1",
   "metadata": {},
   "outputs": [],
   "source": [
    "# Pauli X matrix\n",
    "sigma_x = np.array([[0, 1.0], [1.0, 0]])\n",
    "\n",
    "def create_Hc_mpo(N):\n",
    "    \"\"\"\n",
    "    Creates the MPO for Hc = sum_i sigma_i^x.\n",
    "\n",
    "    Args:\n",
    "        N (int): Number of qubits.\n",
    "\n",
    "    Returns:\n",
    "        list of np.ndarray: MPO tensors for Hc.\n",
    "    \"\"\"\n",
    "    \n",
    "    mpo = []\n",
    "    for i in range(N):\n",
    "\n",
    "        if i == 0:\n",
    "            # First tensor\n",
    "            tensor = np.zeros((1, 2, 2, 2), dtype=np.complex128)  # Bond dimension r=2\n",
    "            tensor[0,0, :, :] = I\n",
    "            tensor[0,1, :, :] = sigma_x\n",
    "        elif i == N - 1:\n",
    "            # Last tensor\n",
    "            tensor = np.zeros((2, 1, 2, 2), dtype=np.complex128)  # Bond dimension r=2\n",
    "            tensor[0,0, :, :] = sigma_x\n",
    "            tensor[1,0, :, :] = I\n",
    "        else:\n",
    "            # Middle tensors\n",
    "            tensor = np.zeros((2, 2, 2, 2), dtype=np.complex128)  # Bond dimension r=2\n",
    "            tensor[0,0, :, :] = I\n",
    "            tensor[0,1, :, :] = sigma_x\n",
    "            tensor[1,1, :, :] = I\n",
    "        mpo.append(tensor)\n",
    "        \n",
    "    return mpo"
   ]
  },
  {
   "cell_type": "code",
   "execution_count": 241,
   "id": "28b3f82f-cfef-427b-8fe3-816d4db16fb8",
   "metadata": {},
   "outputs": [],
   "source": [
    "def create_I_mpo(N):\n",
    "\n",
    "    mpo = []\n",
    "    for i in range(N):\n",
    "        tensor = np.zeros((1, 1, 2, 2), dtype=np.complex128)  # Bond dimension r=1\n",
    "        tensor[0,0, :, :] = I\n",
    "        mpo.append(tensor)\n",
    "\n",
    "    return mpo\n",
    "        "
   ]
  },
  {
   "cell_type": "markdown",
   "id": "3038bf07-a028-41b5-8171-e165805644a4",
   "metadata": {},
   "source": [
    "## Define the functions to operate (sum, product)"
   ]
  },
  {
   "cell_type": "code",
   "execution_count": 242,
   "id": "d3a3095a-c524-4e1e-b1a0-555f3a5950e9",
   "metadata": {},
   "outputs": [],
   "source": [
    "def add(mpo1,mpo2):\n",
    "\n",
    "    assert len(mpo1) == len(mpo2)\n",
    "\n",
    "    new_mpo = []\n",
    "\n",
    "    ## First we add the empty first boundary to the new list of core tensors\n",
    "    new_mpo.append(np.zeros((1,mpo1[0].shape[1]+mpo2[0].shape[1],2,2), dtype=np.complex128))\n",
    "\n",
    "    ## Add the rectangular tensors in the center\n",
    "    if len(mpo1)>2:\n",
    "        for i in range(1,len(mpo1)-1):\n",
    "            new_mpo.append(np.zeros((mpo1[i].shape[0]+mpo2[i].shape[0],mpo1[i].shape[1]+mpo2[i].shape[1],2,2), dtype=np.complex128))\n",
    "\n",
    "    ## Add the last ending boundary of the list of tensors\n",
    "    new_mpo.append(np.zeros((mpo1[len(mpo1)-1].shape[0]+mpo2[len(mpo2)-1].shape[0],1,2,2), dtype=np.complex128))\n",
    "\n",
    "    ## Compute the tensors for the boundaries\n",
    "    for j in range(mpo1[0].shape[1]):\n",
    "        new_mpo[0][0,j,:,:] = mpo1[0][0,j,:,:]\n",
    "    for k in range(mpo2[0].shape[1]):\n",
    "        new_mpo[0][0,mpo1[0].shape[1]+k,:,:] = mpo2[0][0,k,:,:]\n",
    "\n",
    "    for j in range(mpo1[len(mpo1)-1].shape[0]):\n",
    "        new_mpo[len(mpo1)-1][j,0,:,:] = mpo1[len(mpo1)-1][j,0,:,:]\n",
    "    for k in range(mpo2[len(mpo2)-1].shape[0]):\n",
    "        new_mpo[len(mpo2)-1][mpo1[len(mpo1)-1].shape[0]+k,0,:,:] = mpo2[len(mpo2)-1][k,0,:,:]\n",
    "\n",
    "    ## Now the tensors in the middle\n",
    "    if len(mpo1)>2:\n",
    "        for i in range(1,len(mpo1)-1):\n",
    "            for j in range(mpo1[i].shape[0]):\n",
    "                for k in range(mpo1[i].shape[1]):\n",
    "                    new_mpo[i][j,k,:,:] = mpo1[i][j,k,:,:]\n",
    "    \n",
    "            for j in range(mpo2[i].shape[0]):\n",
    "                    for k in range(mpo2[i].shape[1]):\n",
    "                        new_mpo[i][mpo1[i].shape[0]+j,mpo1[i].shape[1]+k,:,:] = mpo2[i][j,k,:,:]\n",
    "    \n",
    "    return new_mpo"
   ]
  },
  {
   "cell_type": "code",
   "execution_count": 243,
   "id": "ac7df4eb-e5d1-4d65-83a6-6d90a971fee3",
   "metadata": {},
   "outputs": [],
   "source": [
    "def prod_scalar(mpo,c):\n",
    "\n",
    "    ## Product of mpo times scalar, so we encapsule the scalar in the first tensor\n",
    "    \n",
    "    for i in range(mpo[0].shape[0]):\n",
    "        for j in range(mpo[0].shape[1]):\n",
    "            for k in range(mpo[0].shape[2]):\n",
    "                for l in range(mpo[0].shape[3]):\n",
    "                    mpo[0][i,j,k,l] = mpo[0][i,j,k,l]*(c+0*1j)\n",
    "\n",
    "    return mpo"
   ]
  },
  {
   "cell_type": "code",
   "execution_count": 244,
   "id": "558f82fe-34dc-4011-9fac-dfb7212e3934",
   "metadata": {},
   "outputs": [],
   "source": [
    "def prod(mpo1,mpo2):\n",
    "    \n",
    "    assert len(mpo1) == len(mpo2)\n",
    "\n",
    "    new_mpo = []\n",
    "\n",
    "    ## First we add the empty first boundary to the new list of core tensors\n",
    "    new_mpo.append(np.zeros((1,mpo1[0].shape[1]*mpo2[0].shape[1],2,2), dtype=np.complex128))\n",
    "\n",
    "    ## Add the rectangular tensors in the center\n",
    "    if len(mpo1)>2:\n",
    "        for i in range(1,len(mpo1)-1):\n",
    "            new_mpo.append(np.zeros((mpo1[i].shape[0]*mpo2[i].shape[0],mpo1[i].shape[1]*mpo2[i].shape[1],2,2), dtype=np.complex128))\n",
    "\n",
    "    ## Add the last ending boundary of the list of tensors\n",
    "    new_mpo.append(np.zeros((mpo1[len(mpo1)-1].shape[0]*mpo2[len(mpo2)-1].shape[0],1,2,2), dtype=np.complex128))\n",
    "\n",
    "    ## Compute the tensors for the boundaries\n",
    "    for j in range(mpo1[0].shape[1]):\n",
    "        for k in range(mpo2[0].shape[1]):\n",
    "            new_mpo[0][0,k+j*(mpo2[0].shape[1]),:,:] = np.outer(mpo1[0][0,j,:,0],mpo2[0][0,k,0,:])+np.outer(mpo1[0][0,j,:,1],mpo2[0][0,k,1,:])\n",
    "\n",
    "    for j in range(mpo1[len(mpo1)-1].shape[0]):\n",
    "        for k in range(mpo2[len(mpo2)-1].shape[0]):\n",
    "            new_mpo[len(mpo1)-1][k+j*(mpo2[len(mpo2)-1].shape[0]),0,:,:] = np.outer(mpo1[len(mpo1)-1][j,0,:,0],mpo2[len(mpo2)-1][k,0,0,:])+np.outer(mpo1[len(mpo1)-1][j,0,:,1],mpo2[len(mpo2)-1][k,0,1,:])\n",
    "\n",
    "\n",
    "    ## Now we compute the values of the intermediate tensor cores\n",
    "    if len(mpo1)>2:\n",
    "        ## For each core tensor\n",
    "        for i in range(1,len(mpo1)-1):\n",
    "            ## Take each element of the first tensor\n",
    "            for j in range(mpo1[i].shape[0]):\n",
    "                for k in range(mpo1[i].shape[1]):\n",
    "\n",
    "                    ## Compute with all the elements of the equivalent tensor in second mpo\n",
    "                    for s in range(mpo2[i].shape[0]):\n",
    "                        for t in range(mpo2[i].shape[1]):\n",
    "                            new_mpo[i][s+j*(mpo2[i].shape[1]),t+k*(mpo2[i].shape[1]),:,:] = np.outer(mpo1[i][j,k,:,0],mpo2[i][s,t,0,:])+np.outer(mpo1[i][j,k,:,1],mpo2[i][s,t,1,:])\n",
    "\n",
    "    return new_mpo"
   ]
  },
  {
   "cell_type": "markdown",
   "id": "0b89c962-440d-491e-a073-0903c666e862",
   "metadata": {},
   "source": [
    "## From MPO to full matrix"
   ]
  },
  {
   "cell_type": "code",
   "execution_count": 245,
   "id": "346a49f6-a90a-4974-a703-9f5703bc2736",
   "metadata": {},
   "outputs": [],
   "source": [
    "def contract(mpo):\n",
    "    ## Create list for recursive multiplication of matrices, step by step\n",
    "    mpo_contracted = []\n",
    "    ## We define the first one as it's fixed\n",
    "    mpo_contracted.append(mpo[0])\n",
    "    for n in range(len(mpo)-1):\n",
    "        ## For the first compression starting left to right we set an empty compressed tensor\n",
    "        mpo_contracted.append(np.zeros((mpo[n].shape[0],mpo[n+1].shape[1],2**(n+2),2**(n+2)), dtype=np.complex128))\n",
    "            \n",
    "        for i in range(mpo[n+1].shape[1]):\n",
    "            ## Now go over every element and take matrix multiplication with kronecker product\n",
    "            mpo_comp = 0\n",
    "            for j in range(mpo[n].shape[1]):\n",
    "                mpo_comp += np.kron((mpo_contracted[n])[0,j,:,:],(mpo[n+1])[j,i,:,:])\n",
    "\n",
    "                ## Add in the list to continue with the next compression\n",
    "                (mpo_contracted[n+1])[0,i] = mpo_comp\n",
    "                \n",
    "    return mpo_contracted[len(mpo)-1][0][0]"
   ]
  },
  {
   "cell_type": "code",
   "execution_count": 246,
   "id": "84e9046d-65f5-4b27-8bb3-974d8216d90f",
   "metadata": {},
   "outputs": [],
   "source": [
    "def commutator(mpo1,mpo2):\n",
    "    return add(prod(mpo1,mpo2),prod_scalar(prod(mpo2,mpo1),-1))"
   ]
  },
  {
   "cell_type": "markdown",
   "id": "93e22fcb-b69e-45ea-b40d-15c02faa11a5",
   "metadata": {},
   "source": [
    "## Bond reduction of the tensors"
   ]
  },
  {
   "cell_type": "code",
   "execution_count": 247,
   "id": "14c3dde7-636c-46ae-94f2-e3ab53f3e536",
   "metadata": {},
   "outputs": [],
   "source": [
    "def reduce(mpo, bond_dimension):\n",
    "\n",
    "    new_mpo = []\n",
    "    return new_mpo"
   ]
  },
  {
   "cell_type": "markdown",
   "id": "37c442a2-8ddb-412d-b976-30906d0cde8c",
   "metadata": {},
   "source": [
    "## Magnus and Chebyshev approximations for evolution"
   ]
  },
  {
   "cell_type": "code",
   "execution_count": 228,
   "id": "316261ab-9d28-4e4a-b3ad-2592cc0b7500",
   "metadata": {},
   "outputs": [],
   "source": [
    "def Magnus_mpo(mpo_H0,mpo_Hc,u,T):\n",
    "\n",
    "    \"\"\"\n",
    "   First step to solve the time-dependent Schrödinger equation via Magnus expansion.\n",
    "\n",
    "    Parameters:\n",
    "    - mpo_H0: numpy array, static Hamiltonian as mpo\n",
    "    - mpo_Hc: numpy array, control Hamiltonian as mpo\n",
    "    - u: function u(t) defining time dependence\n",
    "    - T: float, total evolution time\n",
    "\n",
    "    Returns:\n",
    "    - M: Magnus series\n",
    "    \"\"\"\n",
    "\n",
    "    ## Magnus series (order 2)\n",
    "    t1, t2, t3 = sp.symbols('t1 t2 t3')\n",
    "\n",
    "    a = -1j*sp.integrate(1,(t1,0,T))\n",
    "    b = -1j*sp.integrate(u(t1), (t1, 0, T)) \n",
    "\n",
    "    M1 = add(prod_scalar(mpo_H0,a),prod_scalar(mpo_Hc,b))\n",
    "\n",
    "    c = -1/2 * sp.integrate(sp.integrate(u(t2)-u(t1),(t2,0,t1)),(t1,0,T))\n",
    "\n",
    "    M2 = prod_scalar(commutator(mpo_H0,mpo_Hc),c)\n",
    "\n",
    "    d = 1j/6 * sp.integrate(sp.integrate(sp.integrate(u(t3)-2*u(t2)+u(t1),(t3,0,t2)),(t2,0,t1)),(t1,0,T))\n",
    "    e = 1j/6 * sp.integrate(sp.integrate(sp.integrate(2*u(t1)*u(t3)-u(t1)*u(t2)-u(t2)*u(t3),(t3,0,t2)),(t2,0,t1)),(t1,0,T))\n",
    "\n",
    "    M3 = add(prod_scalar(commutator(mpo_H0,commutator(mpo_H0,mpo_Hc)),d),prod_scalar(commutator(commutator(mpo_Hc,mpo_H0),mpo_Hc),e))\n",
    "    \n",
    "    M = add(M1,M2)\n",
    "\n",
    "    return M"
   ]
  },
  {
   "cell_type": "code",
   "execution_count": 229,
   "id": "21ff38c9-3045-4a4a-93db-fef7b2811e61",
   "metadata": {},
   "outputs": [],
   "source": [
    "def Chebyshev_mpo(mpo,N):\n",
    "    \"\"\" \n",
    "    Approximation of exponentiation of Magnus series to find the solution to the Schrödinger equation\n",
    "    \"\"\"\n",
    "\n",
    "    ##Bessel function constants\n",
    "    \n",
    "    a = jn(0,1)+2*jn(2,1)\n",
    "    b = 2*jn(1,1)\n",
    "    c = 4*jn(2,1)\n",
    "\n",
    "    C1 = prod_scalar(create_I_mpo(N),a)\n",
    "    C2 = prod_scalar(mpo,b)\n",
    "    C3 = prod_scalar(prod(mpo,mpo),c)\n",
    "\n",
    "    C = add(C1,C2)\n",
    "\n",
    "    \n",
    "    return C"
   ]
  },
  {
   "cell_type": "markdown",
   "id": "61bd86b4-c73b-4c59-beaa-d868101c3c5c",
   "metadata": {},
   "source": [
    "## Exact evolution"
   ]
  },
  {
   "cell_type": "code",
   "execution_count": 230,
   "id": "20abf984-6795-410e-a26b-81ffc3919e10",
   "metadata": {},
   "outputs": [],
   "source": [
    "def get_unitary(H0, Hc, u, T, timesteps=1000):\n",
    "    \"\"\"\n",
    "    Solves the time-dependent Schrödinger equation and returns the unitary evolution matrix.\n",
    "\n",
    "    Parameters:\n",
    "    - H0: numpy array, static Hamiltonian\n",
    "    - Hc: numpy array, control Hamiltonian\n",
    "    - u: function u(t) defining time dependence\n",
    "    - T: float, total evolution time\n",
    "    - timesteps: int, number of time steps for integration\n",
    "\n",
    "    Returns:\n",
    "    - U_T: numpy array, final unitary matrix at time T\n",
    "    \"\"\"\n",
    "\n",
    "    # Convert matrices to Qobj\n",
    "    H0_q = qt.Qobj(H0)\n",
    "    Hc_q = qt.Qobj(Hc)\n",
    "\n",
    "    # Time-dependent Hamiltonian\n",
    "    H = [H0_q, [Hc_q, u]]\n",
    "\n",
    "    # Initial state (identity operator for unitary evolution)\n",
    "    identity = qt.qeye(H0.shape[0])\n",
    "    psi0 = identity\n",
    "\n",
    "    # Time array\n",
    "    tlist = np.linspace(0, T, timesteps)\n",
    "\n",
    "    # Solve Schrödinger equation\n",
    "    result = qt.sesolve(H, psi0, tlist)\n",
    "\n",
    "    # Extract final unitary matrix\n",
    "    U_T = result.states[-1].full()\n",
    "\n",
    "    return U_T"
   ]
  },
  {
   "cell_type": "code",
   "execution_count": 231,
   "id": "3711b9e0-93db-41a1-8611-734414da8530",
   "metadata": {},
   "outputs": [],
   "source": [
    "def log(U):\n",
    "    \n",
    "    eigvals, eigvecs = np.linalg.eig(U)\n",
    "\n",
    "    log_eigvals = np.diag(np.log(eigvals))\n",
    "\n",
    "    # Reconstruct the logarithm of the matrix\n",
    "    log_U = eigvecs @ log_eigvals @ np.linalg.inv(eigvecs)\n",
    "    \n",
    "    return eigvecs, log_eigvals"
   ]
  },
  {
   "cell_type": "code",
   "execution_count": 232,
   "id": "7f1cf01b-ee1f-41b2-b1fe-898b7245e93e",
   "metadata": {},
   "outputs": [],
   "source": [
    "def err_fidelity(U,V):\n",
    "\n",
    "    ## Computes the fidelity error: 1-fidelity\n",
    "\n",
    "    d = U.shape[0]  # Dimension of the unitary matrices\n",
    "    fidelity = (np.abs(np.trace(np.conj(U.T) @ V)) / d) ** 2\n",
    "    return 1 - fidelity"
   ]
  },
  {
   "cell_type": "code",
   "execution_count": 265,
   "id": "f7452510-5b5b-480a-bb42-73bea1a64103",
   "metadata": {},
   "outputs": [],
   "source": [
    "def compare(N,g,T):\n",
    "\n",
    "    ## Compare (error) the exact solution to the MPO solution with Magnus and M+C\n",
    "    \n",
    "    mpo1 = prod_scalar(create_H0_mpo(N,g),1/4**N)\n",
    "    mpo2 = prod_scalar(create_Hc_mpo(N),1/4**N)\n",
    "    H0 = contract(mpo1)\n",
    "    Hc = contract(mpo2)\n",
    "\n",
    "    ## Define the control function\n",
    "    def u(t):\n",
    "        return 1-t+t**2\n",
    "\n",
    "    U_exact = get_unitary(H0,Hc,u, T)\n",
    "    Mag = Magnus_mpo(mpo1,mpo2,u, T)\n",
    "    U_computed = Chebyshev_mpo(Mag,N)\n",
    "\n",
    "    Err1 = err_fidelity(U_exact,expm(contract(Mag)))\n",
    "    Err2 = err_fidelity(U_exact,contract(U_computed))\n",
    "\n",
    "    return Err1, Err2"
   ]
  },
  {
   "cell_type": "markdown",
   "id": "90f4da95-3be9-403a-9247-003a854461b3",
   "metadata": {},
   "source": [
    "## Example trial"
   ]
  },
  {
   "cell_type": "code",
   "execution_count": 270,
   "id": "d8fdc67b-adf0-4191-bc2a-0ef1d568c894",
   "metadata": {},
   "outputs": [
    {
     "name": "stderr",
     "output_type": "stream",
     "text": [
      "C:\\Users\\llore\\anaconda3\\Lib\\site-packages\\qutip\\solver\\integrator\\scipy_integrator.py:80: SparseEfficiencyWarning: Constructing a DIA matrix with 512 diagonals is inefficient\n",
      "  state0 = _data.column_stack(state0)\n"
     ]
    }
   ],
   "source": [
    "m = 9\n",
    "g = 1\n",
    "T = 0.5\n",
    "err_magnus = []\n",
    "err_cheby = []\n",
    "\n",
    "for i in range(2,m+1):\n",
    "    err1, err2 = compare(i,g,T)\n",
    "\n",
    "    err_magnus.append(err1)\n",
    "    err_cheby.append(err2)"
   ]
  },
  {
   "cell_type": "code",
   "execution_count": 271,
   "id": "94c25e2e-6c50-421c-8a06-7f013f886b7e",
   "metadata": {},
   "outputs": [
    {
     "data": {
      "text/plain": [
       "[0.007448974316384471,\n",
       " 0.009729538260065618,\n",
       " 0.00994605613975863,\n",
       " 0.009964204125082365,\n",
       " 0.009965620130477304,\n",
       " 0.00996572531844353,\n",
       " 0.00996573310378912,\n",
       " 0.009965733657782083]"
      ]
     },
     "execution_count": 271,
     "metadata": {},
     "output_type": "execute_result"
    }
   ],
   "source": [
    "err_cheby"
   ]
  },
  {
   "cell_type": "code",
   "execution_count": 276,
   "id": "0c23a367-0c60-478f-8051-70b3a935fd60",
   "metadata": {},
   "outputs": [
    {
     "data": {
      "image/png": "[encoded data removed]",
      "text/plain": [
       "<Figure size 640x480 with 1 Axes>"
      ]
     },
     "metadata": {},
     "output_type": "display_data"
    }
   ],
   "source": [
    "plt.plot(range(2,m+1),err_magnus)\n",
    "plt.xlabel('Number of qubits')\n",
    "plt.ylabel('Fidelity error between exact and Magnus MPO')\n",
    "plt.yscale('log')"
   ]
  },
  {
   "cell_type": "code",
   "execution_count": 277,
   "id": "dce1e4e0-0534-4e60-8056-66b80680f7d6",
   "metadata": {},
   "outputs": [
    {
     "data": {
      "image/png": "[encoded data removed]",
      "text/plain": [
       "<Figure size 640x480 with 1 Axes>"
      ]
     },
     "metadata": {},
     "output_type": "display_data"
    }
   ],
   "source": [
    "plt.plot(range(2,m+1),err_cheby)\n",
    "plt.xlabel('Number of qubits')\n",
    "plt.ylabel('Fidelity error between exact and full MPO')\n",
    "plt.yscale('log')"
   ]
  },
  {
   "cell_type": "code",
   "execution_count": null,
   "id": "eeda2a43-670f-419a-b43a-3497b3b0d52e",
   "metadata": {},
   "outputs": [],
   "source": []
  },
  {
   "cell_type": "code",
   "execution_count": null,
   "id": "ae52cabe-813e-4d90-bd3a-e85200d4e32c",
   "metadata": {},
   "outputs": [],
   "source": []
  }
 ],
 "metadata": {
  "kernelspec": {
   "display_name": "Python 3 (ipykernel)",
   "language": "python",
   "name": "python3"
  },
  "language_info": {
   "codemirror_mode": {
    "name": "ipython",
    "version": 3
   },
   "file_extension": ".py",
   "mimetype": "text/x-python",
   "name": "python",
   "nbconvert_exporter": "python",
   "pygments_lexer": "ipython3",
   "version": "3.12.7"
  }
 },
 "nbformat": 4,
 "nbformat_minor": 5
}
