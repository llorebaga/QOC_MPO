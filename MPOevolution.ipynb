{
 "cells": [
  {
   "cell_type": "markdown",
   "id": "2ddcffcb-ff9b-4b64-bb8b-f12848b4c59b",
   "metadata": {},
   "source": [
    "# Operations with matrix product operators"
   ]
  },
  {
   "cell_type": "markdown",
   "id": "a351041e-be7c-4a33-9863-33acdd91988e",
   "metadata": {},
   "source": [
    "## Create the MPO we want"
   ]
  },
  {
   "cell_type": "code",
   "execution_count": 1,
   "id": "8d0aa80c-5a04-47c1-9a89-a760aa053c06",
   "metadata": {},
   "outputs": [],
   "source": [
    "import numpy as np\n",
    "import sympy as sp\n",
    "from scipy.special import jn\n",
    "from scipy.linalg import expm, logm\n",
    "import qutip as qt\n",
    "import matplotlib.pyplot as plt"
   ]
  },
  {
   "cell_type": "code",
   "execution_count": 2,
   "id": "27ecd461-66a6-41d1-a0cd-cb9959af29df",
   "metadata": {},
   "outputs": [],
   "source": [
    "# Pauli Z matrix\n",
    "sigma_z = np.array([[1.0+0*1j, 0], [0, -1]])\n",
    "\n",
    "# Identity matrix\n",
    "I = np.eye(2)\n",
    "\n",
    "def create_H0_mpo(N, g):\n",
    "    \"\"\"\n",
    "    Creates the MPO for H0 = sum_i g_i sigma_i^z.\n",
    "\n",
    "    Args:\n",
    "        N (int): Number of qubits.\n",
    "        g: Coefficients of g.\n",
    "\n",
    "    Returns:\n",
    "        list of np.ndarray: MPO tensors for H0.\n",
    "    \"\"\"\n",
    "    \n",
    "    mpo = []\n",
    "    for i in range(N):\n",
    "\n",
    "        if i == 0:\n",
    "            # First tensor\n",
    "            tensor = np.zeros((1, 2, 2, 2), dtype=np.complex128)  # Bond dimension r=2\n",
    "            tensor[0,0, :, :] = I\n",
    "            tensor[0,1, :, :] = g * sigma_z\n",
    "        elif i == N - 1:\n",
    "            # Last tensor\n",
    "            tensor = np.zeros((2, 1, 2, 2), dtype=np.complex128)  # Bond dimension r=2\n",
    "            tensor[0,0, :, :] = g * sigma_z\n",
    "            tensor[1,0, :, :] = I\n",
    "        else:\n",
    "            # Middle tensors\n",
    "            tensor = np.zeros((2, 2, 2, 2), dtype=np.complex128)  # Bond dimension r=2\n",
    "            tensor[0,0, :, :] = I\n",
    "            tensor[0,1, :, :] = g * sigma_z\n",
    "            tensor[1,1, :, :] = I\n",
    "        mpo.append(tensor)\n",
    "        \n",
    "    return mpo"
   ]
  },
  {
   "cell_type": "code",
   "execution_count": 3,
   "id": "bd4d8ba9-25ac-4936-9bec-f8bdc607e8f1",
   "metadata": {},
   "outputs": [],
   "source": [
    "# Pauli X matrix\n",
    "sigma_x = np.array([[0, 1.0], [1.0, 0]])\n",
    "\n",
    "def create_Hc_mpo(N):\n",
    "    \"\"\"\n",
    "    Creates the MPO for Hc = sum_i sigma_i^x.\n",
    "\n",
    "    Args:\n",
    "        N (int): Number of qubits.\n",
    "\n",
    "    Returns:\n",
    "        list of np.ndarray: MPO tensors for Hc.\n",
    "    \"\"\"\n",
    "    \n",
    "    mpo = []\n",
    "    for i in range(N):\n",
    "\n",
    "        if i == 0:\n",
    "            # First tensor\n",
    "            tensor = np.zeros((1, 2, 2, 2), dtype=np.complex128)  # Bond dimension r=2\n",
    "            tensor[0,0, :, :] = I\n",
    "            tensor[0,1, :, :] = sigma_x\n",
    "        elif i == N - 1:\n",
    "            # Last tensor\n",
    "            tensor = np.zeros((2, 1, 2, 2), dtype=np.complex128)  # Bond dimension r=2\n",
    "            tensor[0,0, :, :] = sigma_x\n",
    "            tensor[1,0, :, :] = I\n",
    "        else:\n",
    "            # Middle tensors\n",
    "            tensor = np.zeros((2, 2, 2, 2), dtype=np.complex128)  # Bond dimension r=2\n",
    "            tensor[0,0, :, :] = I\n",
    "            tensor[0,1, :, :] = sigma_x\n",
    "            tensor[1,1, :, :] = I\n",
    "        mpo.append(tensor)\n",
    "        \n",
    "    return mpo"
   ]
  },
  {
   "cell_type": "code",
   "execution_count": 4,
   "id": "28b3f82f-cfef-427b-8fe3-816d4db16fb8",
   "metadata": {},
   "outputs": [],
   "source": [
    "def create_I_mpo(N):\n",
    "\n",
    "    mpo = []\n",
    "    for i in range(N):\n",
    "        tensor = np.zeros((1, 1, 2, 2), dtype=np.complex128)  # Bond dimension r=1\n",
    "        tensor[0,0, :, :] = I\n",
    "        mpo.append(tensor)\n",
    "\n",
    "    return mpo\n",
    "        "
   ]
  },
  {
   "cell_type": "markdown",
   "id": "3038bf07-a028-41b5-8171-e165805644a4",
   "metadata": {},
   "source": [
    "## Define the functions to operate (sum, product)"
   ]
  },
  {
   "cell_type": "code",
   "execution_count": 5,
   "id": "d3a3095a-c524-4e1e-b1a0-555f3a5950e9",
   "metadata": {},
   "outputs": [],
   "source": [
    "def add(mpo1,mpo2):\n",
    "\n",
    "    assert len(mpo1) == len(mpo2)\n",
    "\n",
    "    new_mpo = []\n",
    "\n",
    "    ## First we add the empty first boundary to the new list of core tensors\n",
    "    new_mpo.append(np.zeros((1,mpo1[0].shape[1]+mpo2[0].shape[1],2,2), dtype=np.complex128))\n",
    "\n",
    "    ## Add the rectangular tensors in the center\n",
    "    if len(mpo1)>2:\n",
    "        for i in range(1,len(mpo1)-1):\n",
    "            new_mpo.append(np.zeros((mpo1[i].shape[0]+mpo2[i].shape[0],mpo1[i].shape[1]+mpo2[i].shape[1],2,2), dtype=np.complex128))\n",
    "\n",
    "    ## Add the last ending boundary of the list of tensors\n",
    "    new_mpo.append(np.zeros((mpo1[len(mpo1)-1].shape[0]+mpo2[len(mpo2)-1].shape[0],1,2,2), dtype=np.complex128))\n",
    "\n",
    "    ## Compute the tensors for the boundaries\n",
    "    for j in range(mpo1[0].shape[1]):\n",
    "        new_mpo[0][0,j,:,:] = mpo1[0][0,j,:,:]\n",
    "    for k in range(mpo2[0].shape[1]):\n",
    "        new_mpo[0][0,mpo1[0].shape[1]+k,:,:] = mpo2[0][0,k,:,:]\n",
    "\n",
    "    for j in range(mpo1[len(mpo1)-1].shape[0]):\n",
    "        new_mpo[len(mpo1)-1][j,0,:,:] = mpo1[len(mpo1)-1][j,0,:,:]\n",
    "    for k in range(mpo2[len(mpo2)-1].shape[0]):\n",
    "        new_mpo[len(mpo2)-1][mpo1[len(mpo1)-1].shape[0]+k,0,:,:] = mpo2[len(mpo2)-1][k,0,:,:]\n",
    "\n",
    "    ## Now the tensors in the middle\n",
    "    if len(mpo1)>2:\n",
    "        for i in range(1,len(mpo1)-1):\n",
    "            for j in range(mpo1[i].shape[0]):\n",
    "                for k in range(mpo1[i].shape[1]):\n",
    "                    new_mpo[i][j,k,:,:] = mpo1[i][j,k,:,:]\n",
    "    \n",
    "            for j in range(mpo2[i].shape[0]):\n",
    "                    for k in range(mpo2[i].shape[1]):\n",
    "                        new_mpo[i][mpo1[i].shape[0]+j,mpo1[i].shape[1]+k,:,:] = mpo2[i][j,k,:,:]\n",
    "    \n",
    "    return new_mpo"
   ]
  },
  {
   "cell_type": "code",
   "execution_count": 6,
   "id": "ac7df4eb-e5d1-4d65-83a6-6d90a971fee3",
   "metadata": {},
   "outputs": [],
   "source": [
    "def prod_scalar(mpo, c):\n",
    "    new_mpo = [np.copy(tensor) for tensor in mpo]  # Make a deep copy\n",
    "    for i in range(new_mpo[0].shape[0]):\n",
    "        for j in range(new_mpo[0].shape[1]):\n",
    "            for k in range(new_mpo[0].shape[2]):\n",
    "                for l in range(new_mpo[0].shape[3]):\n",
    "                    new_mpo[0][i, j, k, l] *= c\n",
    "    return new_mpo"
   ]
  },
  {
   "cell_type": "code",
   "execution_count": 7,
   "id": "558f82fe-34dc-4011-9fac-dfb7212e3934",
   "metadata": {},
   "outputs": [],
   "source": [
    "def prod(mpo1,mpo2):\n",
    "    \n",
    "    assert len(mpo1) == len(mpo2)\n",
    "\n",
    "    new_mpo = []\n",
    "\n",
    "    ## First we add the empty first boundary to the new list of core tensors\n",
    "    new_mpo.append(np.zeros((1,mpo1[0].shape[1]*mpo2[0].shape[1],2,2), dtype=np.complex128))\n",
    "\n",
    "    ## Add the rectangular tensors in the center\n",
    "    if len(mpo1)>2:\n",
    "        for i in range(1,len(mpo1)-1):\n",
    "            new_mpo.append(np.zeros((mpo1[i].shape[0]*mpo2[i].shape[0],mpo1[i].shape[1]*mpo2[i].shape[1],2,2), dtype=np.complex128))\n",
    "\n",
    "    ## Add the last ending boundary of the list of tensors\n",
    "    new_mpo.append(np.zeros((mpo1[len(mpo1)-1].shape[0]*mpo2[len(mpo2)-1].shape[0],1,2,2), dtype=np.complex128))\n",
    "\n",
    "    ## Compute the tensors for the boundaries\n",
    "    for j in range(mpo1[0].shape[1]):\n",
    "        for k in range(mpo2[0].shape[1]):\n",
    "            new_mpo[0][0,k+j*(mpo2[0].shape[1]),:,:] = np.outer(mpo1[0][0,j,:,0],mpo2[0][0,k,0,:])+np.outer(mpo1[0][0,j,:,1],mpo2[0][0,k,1,:])\n",
    "\n",
    "    for j in range(mpo1[len(mpo1)-1].shape[0]):\n",
    "        for k in range(mpo2[len(mpo2)-1].shape[0]):\n",
    "            new_mpo[len(mpo1)-1][k+j*(mpo2[len(mpo2)-1].shape[0]),0,:,:] = np.outer(mpo1[len(mpo1)-1][j,0,:,0],mpo2[len(mpo2)-1][k,0,0,:])+np.outer(mpo1[len(mpo1)-1][j,0,:,1],mpo2[len(mpo2)-1][k,0,1,:])\n",
    "\n",
    "\n",
    "    ## Now we compute the values of the intermediate tensor cores\n",
    "    if len(mpo1)>2:\n",
    "        ## For each core tensor\n",
    "        for i in range(1,len(mpo1)-1):\n",
    "            ## Take each element of the first tensor\n",
    "            for j in range(mpo1[i].shape[0]):\n",
    "                for k in range(mpo1[i].shape[1]):\n",
    "\n",
    "                    ## Compute with all the elements of the equivalent tensor in second mpo\n",
    "                    for s in range(mpo2[i].shape[0]):\n",
    "                        for t in range(mpo2[i].shape[1]):\n",
    "                            new_mpo[i][s+j*(mpo2[i].shape[1]),t+k*(mpo2[i].shape[1]),:,:] = np.outer(mpo1[i][j,k,:,0],mpo2[i][s,t,0,:])+np.outer(mpo1[i][j,k,:,1],mpo2[i][s,t,1,:])\n",
    "\n",
    "    return new_mpo"
   ]
  },
  {
   "cell_type": "markdown",
   "id": "0b89c962-440d-491e-a073-0903c666e862",
   "metadata": {},
   "source": [
    "## From MPO to full matrix"
   ]
  },
  {
   "cell_type": "code",
   "execution_count": 8,
   "id": "346a49f6-a90a-4974-a703-9f5703bc2736",
   "metadata": {},
   "outputs": [],
   "source": [
    "def contract(mpo):\n",
    "    ## Create list for recursive multiplication of matrices, step by step\n",
    "    mpo_contracted = []\n",
    "    ## We define the first one as it's fixed\n",
    "    mpo_contracted.append(mpo[0])\n",
    "    for n in range(len(mpo)-1):\n",
    "        ## For the first compression starting left to right we set an empty compressed tensor\n",
    "        mpo_contracted.append(np.zeros((mpo[n].shape[0],mpo[n+1].shape[1],2**(n+2),2**(n+2)), dtype=np.complex128))\n",
    "            \n",
    "        for i in range(mpo[n+1].shape[1]):\n",
    "            ## Now go over every element and take matrix multiplication with kronecker product\n",
    "            mpo_comp = 0\n",
    "            for j in range(mpo[n].shape[1]):\n",
    "                mpo_comp += np.kron((mpo_contracted[n])[0,j,:,:],(mpo[n+1])[j,i,:,:])\n",
    "\n",
    "                ## Add in the list to continue with the next compression\n",
    "                (mpo_contracted[n+1])[0,i] = mpo_comp\n",
    "                \n",
    "    return mpo_contracted[len(mpo)-1][0][0]"
   ]
  },
  {
   "cell_type": "code",
   "execution_count": 9,
   "id": "84e9046d-65f5-4b27-8bb3-974d8216d90f",
   "metadata": {},
   "outputs": [],
   "source": [
    "def commutator(mpo1,mpo2):\n",
    "    return add(prod(mpo1,mpo2),prod_scalar(prod(mpo2,mpo1),-1))"
   ]
  },
  {
   "cell_type": "code",
   "execution_count": 10,
   "id": "9126a0e6-8d82-49a8-abe9-b8f3f8d8fdef",
   "metadata": {},
   "outputs": [],
   "source": [
    "def commute(M1,M2):\n",
    "    return (M1 @ M2) - (M2 @ M1) "
   ]
  },
  {
   "cell_type": "markdown",
   "id": "93e22fcb-b69e-45ea-b40d-15c02faa11a5",
   "metadata": {},
   "source": [
    "## Bond reduction of the tensors"
   ]
  },
  {
   "cell_type": "code",
   "execution_count": 11,
   "id": "14c3dde7-636c-46ae-94f2-e3ab53f3e536",
   "metadata": {},
   "outputs": [],
   "source": [
    "def reduce(mpo, bond_dimension):\n",
    "\n",
    "    new_mpo = []\n",
    "    return new_mpo"
   ]
  },
  {
   "cell_type": "markdown",
   "id": "37c442a2-8ddb-412d-b976-30906d0cde8c",
   "metadata": {},
   "source": [
    "## Magnus and Chebyshev approximations for evolution"
   ]
  },
  {
   "cell_type": "code",
   "execution_count": 12,
   "id": "316261ab-9d28-4e4a-b3ad-2592cc0b7500",
   "metadata": {},
   "outputs": [],
   "source": [
    "def Magnus_mpo(mpo_H0,mpo_Hc,u,T):\n",
    "\n",
    "    \"\"\"\n",
    "   First step to solve the time-dependent Schrödinger equation via Magnus expansion.\n",
    "\n",
    "    Parameters:\n",
    "    - mpo_H0: numpy array, static Hamiltonian as mpo\n",
    "    - mpo_Hc: numpy array, control Hamiltonian as mpo\n",
    "    - u: function u(t) defining time dependence\n",
    "    - T: float, total evolution time\n",
    "\n",
    "    Returns:\n",
    "    - M: Magnus series\n",
    "    \"\"\"\n",
    "\n",
    "    ## Magnus series (order 2)\n",
    "    t1, t2, t3 = sp.symbols('t1 t2 t3')\n",
    "\n",
    "    a = -1j*sp.integrate(1,(t1,0,T))\n",
    "    b = -1j*sp.integrate(u(t1), (t1, 0, T)) \n",
    "\n",
    "    M1 = add(prod_scalar(mpo_H0,a),prod_scalar(mpo_Hc,b))\n",
    "\n",
    "    c = -1/2 * sp.integrate(sp.integrate(u(t2)-u(t1),(t2,0,t1)),(t1,0,T))\n",
    "\n",
    "    M2 = prod_scalar(commutator(mpo_H0,mpo_Hc),c)\n",
    "\n",
    "    d = 1j/6 * sp.integrate(sp.integrate(sp.integrate(u(t3)-2*u(t2)+u(t1),(t3,0,t2)),(t2,0,t1)),(t1,0,T))\n",
    "    e = 1j/6 * sp.integrate(sp.integrate(sp.integrate(2*u(t1)*u(t3)-u(t1)*u(t2)-u(t2)*u(t3),(t3,0,t2)),(t2,0,t1)),(t1,0,T))\n",
    "\n",
    "    M3 = add(prod_scalar(commutator(mpo_H0,commutator(mpo_H0,mpo_Hc)),d),prod_scalar(commutator(commutator(mpo_Hc,mpo_H0),mpo_Hc),e))\n",
    "    \n",
    "    M = add(M1,M2)\n",
    "\n",
    "    return M"
   ]
  },
  {
   "cell_type": "code",
   "execution_count": 13,
   "id": "45cf9b47-a689-4814-8f6d-e30c5c6d9903",
   "metadata": {},
   "outputs": [],
   "source": [
    "def Magnus(H0,Hc,u,T):\n",
    "\n",
    "    \"\"\"\n",
    "   First step to solve the time-dependent Schrödinger equation via Magnus expansion.\n",
    "\n",
    "    Parameters:\n",
    "    - mpo_H0: numpy array, static Hamiltonian as mpo\n",
    "    - mpo_Hc: numpy array, control Hamiltonian as mpo\n",
    "    - u: function u(t) defining time dependence\n",
    "    - T: float, total evolution time\n",
    "\n",
    "    Returns:\n",
    "    - M: Magnus series\n",
    "    \"\"\"\n",
    "    def commute(M1,M2):\n",
    "        return (M1 @ M2) - (M2 @ M1)\n",
    "\n",
    "    ## Magnus series (order 2)\n",
    "    t1, t2, t3 = sp.symbols('t1 t2 t3')\n",
    "\n",
    "    a = -1j*sp.integrate(1,(t1,0,T))\n",
    "    b = -1j*sp.integrate(u(t1), (t1, 0, T)) \n",
    "\n",
    "    M1 = (a*H0) + (b*Hc)\n",
    "\n",
    "    c = -1/2 * sp.integrate(sp.integrate(u(t2)-u(t1),(t2,0,t1)),(t1,0,T))\n",
    "\n",
    "    M2 = c*commute(H0,Hc)\n",
    "\n",
    "    d = 1j/6 * sp.integrate(sp.integrate(sp.integrate(u(t3)-2*u(t2)+u(t1),(t3,0,t2)),(t2,0,t1)),(t1,0,T))\n",
    "    e = 1j/6 * sp.integrate(sp.integrate(sp.integrate(2*u(t1)*u(t3)-u(t1)*u(t2)-u(t2)*u(t3),(t3,0,t2)),(t2,0,t1)),(t1,0,T))\n",
    "\n",
    "    M3 = d*(commute(H0,commute(H0,Hc))) + e*(commute(commute(Hc,H0),Hc))\n",
    "    \n",
    "    M = M1 + M2\n",
    "\n",
    "    return M"
   ]
  },
  {
   "cell_type": "code",
   "execution_count": 14,
   "id": "21ff38c9-3045-4a4a-93db-fef7b2811e61",
   "metadata": {},
   "outputs": [],
   "source": [
    "def Chebyshev_mpo(mpo,N):\n",
    "    \"\"\" \n",
    "    Approximation of exponentiation of Magnus series to find the solution to the Schrödinger equation\n",
    "    \"\"\"\n",
    "\n",
    "    ##Bessel function constants\n",
    "    \n",
    "    a = jn(0,1)+2*jn(2,1)\n",
    "    b = 2*jn(1,1)\n",
    "    c = 4*jn(2,1)\n",
    "\n",
    "    C1 = prod_scalar(create_I_mpo(N),a)\n",
    "    C2 = prod_scalar(mpo,b)\n",
    "    C3 = prod_scalar(prod(mpo,mpo),c)\n",
    "\n",
    "    C = add(C1,C2)\n",
    "\n",
    "    \n",
    "    return C"
   ]
  },
  {
   "cell_type": "code",
   "execution_count": 15,
   "id": "767107f5-c51c-44d3-9c0f-f20029f0bf56",
   "metadata": {},
   "outputs": [],
   "source": [
    "def Chebyshev(M,N):\n",
    "    \"\"\" \n",
    "    Approximation of exponentiation of Magnus series to find the solution to the Schrödinger equation\n",
    "    \"\"\"\n",
    "\n",
    "    ##Bessel function constants\n",
    "    \n",
    "    a = jn(0,1)+2*jn(2,1)\n",
    "    b = 2*jn(1,1)\n",
    "    c = 4*jn(2,1)\n",
    "\n",
    "    C1 = a*np.eye(M.shape[0])\n",
    "    C2 = b*M\n",
    "    C3 = (c*M) @ M\n",
    "\n",
    "    C = C1+C2\n",
    "\n",
    "    \n",
    "    return C"
   ]
  },
  {
   "cell_type": "markdown",
   "id": "61bd86b4-c73b-4c59-beaa-d868101c3c5c",
   "metadata": {},
   "source": [
    "## Exact evolution"
   ]
  },
  {
   "cell_type": "code",
   "execution_count": 16,
   "id": "20abf984-6795-410e-a26b-81ffc3919e10",
   "metadata": {},
   "outputs": [],
   "source": [
    "def get_unitary(H0, Hc, u, T, timesteps=1000):\n",
    "    \"\"\"\n",
    "    Solves the time-dependent Schrödinger equation and returns the unitary evolution matrix.\n",
    "\n",
    "    Parameters:\n",
    "    - H0: numpy array, static Hamiltonian\n",
    "    - Hc: numpy array, control Hamiltonian\n",
    "    - u: function u(t) defining time dependence\n",
    "    - T: float, total evolution time\n",
    "    - timesteps: int, number of time steps for integration\n",
    "\n",
    "    Returns:\n",
    "    - U_T: numpy array, final unitary matrix at time T\n",
    "    \"\"\"\n",
    "\n",
    "    # Convert matrices to Qobj\n",
    "    H0_q = qt.Qobj(H0)\n",
    "    Hc_q = qt.Qobj(Hc)\n",
    "\n",
    "    # Time-dependent Hamiltonian\n",
    "    H = [H0_q, [Hc_q, u]]\n",
    "\n",
    "    # Initial state (identity operator for unitary evolution)\n",
    "    identity = qt.qeye(H0.shape[0])\n",
    "    psi0 = identity\n",
    "\n",
    "    # Time array\n",
    "    tlist = np.linspace(0, T, timesteps)\n",
    "\n",
    "    # Solve Schrödinger equation\n",
    "    result = qt.sesolve(H, psi0, tlist)\n",
    "\n",
    "    # Extract final unitary matrix\n",
    "    U_T = result.states[-1].full()\n",
    "\n",
    "    return U_T"
   ]
  },
  {
   "cell_type": "code",
   "execution_count": 17,
   "id": "3711b9e0-93db-41a1-8611-734414da8530",
   "metadata": {},
   "outputs": [],
   "source": [
    "def log(U):\n",
    "    \n",
    "    eigvals, eigvecs = np.linalg.eig(U)\n",
    "\n",
    "    log_eigvals = np.diag(np.log(eigvals))\n",
    "\n",
    "    # Reconstruct the logarithm of the matrix\n",
    "    log_U = eigvecs @ log_eigvals @ np.linalg.inv(eigvecs)\n",
    "    \n",
    "    return log_U"
   ]
  },
  {
   "cell_type": "code",
   "execution_count": 18,
   "id": "7f1cf01b-ee1f-41b2-b1fe-898b7245e93e",
   "metadata": {},
   "outputs": [],
   "source": [
    "def err_fidelity(U,V):\n",
    "\n",
    "    ## Computes the fidelity error: 1-fidelity\n",
    "\n",
    "    d = U.shape[0]  # Dimension of the unitary matrices\n",
    "    fidelity = (np.abs(np.trace(np.conj(U.T) @ V)) / d) ** 2\n",
    "    return 1 - fidelity"
   ]
  },
  {
   "cell_type": "code",
   "execution_count": 19,
   "id": "250332d6-134e-472a-b5b4-804e53bcf7ed",
   "metadata": {},
   "outputs": [],
   "source": [
    "def full_compare(N,g,T):\n",
    "\n",
    "    ## Compare (error) the exact solution to the MPO solution with Magnus and M+C\n",
    "    \n",
    "    mpo1 = prod_scalar(create_H0_mpo(N,g),1/np.linalg.norm(contract(create_H0_mpo(N,g))))\n",
    "    mpo2 = prod_scalar(create_Hc_mpo(N),1/np.linalg.norm(contract(create_Hc_mpo(N))))\n",
    "    H0 = contract(mpo1)\n",
    "    Hc = contract(mpo2)\n",
    "\n",
    "    ## Define the control function\n",
    "    def u(t):\n",
    "        return 1-t+t**2\n",
    "\n",
    "    U_exact = get_unitary(H0,Hc,u, T)\n",
    "    Mag = Magnus_mpo(mpo1,mpo2,u, T)\n",
    "    U_computed = Chebyshev_mpo(Mag,N)\n",
    "\n",
    "    Err1 = err_fidelity(U_exact,expm(contract(Mag)))\n",
    "    Err2 = err_fidelity(U_exact,contract(U_computed))\n",
    "    Err3 = np.linalg.norm(U_exact-expm(contract(Mag)))\n",
    "    Err4 = np.linalg.norm(U_exact-contract(U_computed))\n",
    "\n",
    "    return Err1, Err2, Err3, Err4"
   ]
  },
  {
   "cell_type": "code",
   "execution_count": 20,
   "id": "f7452510-5b5b-480a-bb42-73bea1a64103",
   "metadata": {},
   "outputs": [],
   "source": [
    "def compare(N,g,T):\n",
    "\n",
    "    ## Compare (error) the exact solution to the MPO solution with Magnus and M+C\n",
    "    \n",
    "    mpo1 = prod_scalar(create_H0_mpo(N,g),1/np.linalg.norm(contract(create_H0_mpo(N,g))))\n",
    "    mpo2 = prod_scalar(create_Hc_mpo(N),1/np.linalg.norm(contract(create_Hc_mpo(N))))\n",
    "    H0 = contract(mpo1)\n",
    "    Hc = contract(mpo2)\n",
    "\n",
    "    ## Define the control function\n",
    "    def u(t):\n",
    "        return 1-t+t**2\n",
    "\n",
    "    U_exact = get_unitary(H0,Hc,u, T)\n",
    "    Mag = Magnus_mpo(mpo1,mpo2,u, T)\n",
    "    U_computed = Chebyshev_mpo(Mag,N)\n",
    "\n",
    "    Err = err_fidelity(U_exact,contract(U_computed))\n",
    "\n",
    "    return Err"
   ]
  },
  {
   "cell_type": "markdown",
   "id": "90f4da95-3be9-403a-9247-003a854461b3",
   "metadata": {},
   "source": [
    "## Example trial"
   ]
  },
  {
   "cell_type": "code",
   "execution_count": null,
   "id": "97d12495-dc9d-45cc-a906-8a4bacdde520",
   "metadata": {},
   "outputs": [],
   "source": []
  },
  {
   "cell_type": "markdown",
   "id": "51964f7c-9555-4ff5-9879-0ffc9f702863",
   "metadata": {},
   "source": [
    "## Plots"
   ]
  },
  {
   "cell_type": "code",
   "execution_count": null,
   "id": "1b5cdac7-8ae6-4252-8f5d-1a949847c50d",
   "metadata": {},
   "outputs": [],
   "source": []
  },
  {
   "cell_type": "markdown",
   "id": "878dd5f9-c7ee-48c3-aed5-0b16d76ae6ee",
   "metadata": {},
   "source": [
    "### Compare MPO evolution to exact"
   ]
  },
  {
   "cell_type": "code",
   "execution_count": 21,
   "id": "8c0ea89e-968f-4a62-8cba-801fc5d31ad9",
   "metadata": {},
   "outputs": [
    {
     "name": "stderr",
     "output_type": "stream",
     "text": [
      "C:\\Users\\llore\\anaconda3\\Lib\\site-packages\\qutip\\solver\\integrator\\scipy_integrator.py:80: SparseEfficiencyWarning: Constructing a DIA matrix with 128 diagonals is inefficient\n",
      "  state0 = _data.column_stack(state0)\n",
      "C:\\Users\\llore\\anaconda3\\Lib\\site-packages\\qutip\\solver\\integrator\\scipy_integrator.py:80: SparseEfficiencyWarning: Constructing a DIA matrix with 256 diagonals is inefficient\n",
      "  state0 = _data.column_stack(state0)\n"
     ]
    }
   ],
   "source": [
    "N1 = 7\n",
    "g1 = 1\n",
    "T1 = 0.5\n",
    "\n",
    "errs = []\n",
    "\n",
    "for i in range(2,N1+1):\n",
    "    errs.append(compare(i,g1,T1))"
   ]
  },
  {
   "cell_type": "code",
   "execution_count": 22,
   "id": "e39469fa-6d9d-4ce7-b79b-47a3f2c45475",
   "metadata": {},
   "outputs": [
    {
     "data": {
      "text/plain": [
       "Text(0, 0.5, 'Infidelity between exact and MPO')"
      ]
     },
     "execution_count": 22,
     "metadata": {},
     "output_type": "execute_result"
    },
    {
     "data": {
      "image/png": "[encoded data removed]",
      "text/plain": [
       "<Figure size 640x480 with 1 Axes>"
      ]
     },
     "metadata": {},
     "output_type": "display_data"
    }
   ],
   "source": [
    "plt.plot(range(2,N1+1),errs)\n",
    "plt.xlabel('Number of qubits')\n",
    "plt.ylabel('Infidelity between exact and MPO')"
   ]
  },
  {
   "cell_type": "markdown",
   "id": "e23e607f-2e52-4bea-ad38-5f1963c22637",
   "metadata": {},
   "source": [
    "### Full comparison"
   ]
  },
  {
   "cell_type": "code",
   "execution_count": 29,
   "id": "d8fdc67b-adf0-4191-bc2a-0ef1d568c894",
   "metadata": {},
   "outputs": [
    {
     "name": "stderr",
     "output_type": "stream",
     "text": [
      "C:\\Users\\llore\\anaconda3\\Lib\\site-packages\\qutip\\solver\\integrator\\scipy_integrator.py:80: SparseEfficiencyWarning: Constructing a DIA matrix with 128 diagonals is inefficient\n",
      "  state0 = _data.column_stack(state0)\n",
      "C:\\Users\\llore\\anaconda3\\Lib\\site-packages\\qutip\\solver\\integrator\\scipy_integrator.py:80: SparseEfficiencyWarning: Constructing a DIA matrix with 256 diagonals is inefficient\n",
      "  state0 = _data.column_stack(state0)\n"
     ]
    }
   ],
   "source": [
    "err_magnus = []\n",
    "err_cheby = []\n",
    "err_magnus1 = []\n",
    "err_cheby1 = []\n",
    "\n",
    "for i in range(2,N1+1):\n",
    "    err1, err2, err3, err4 = full_compare(i,g1,T1)\n",
    "\n",
    "    err_magnus.append(err1)\n",
    "    err_cheby.append(err2)\n",
    "    err_magnus1.append(err3)\n",
    "    err_cheby1.append(err4)"
   ]
  },
  {
   "cell_type": "code",
   "execution_count": 30,
   "id": "0c23a367-0c60-478f-8051-70b3a935fd60",
   "metadata": {},
   "outputs": [
    {
     "data": {
      "text/plain": [
       "Text(0, 0.5, 'Infidelity of just Magnus')"
      ]
     },
     "execution_count": 30,
     "metadata": {},
     "output_type": "execute_result"
    },
    {
     "data": {
      "image/png": "[encoded data removed]",
      "text/plain": [
       "<Figure size 640x480 with 1 Axes>"
      ]
     },
     "metadata": {},
     "output_type": "display_data"
    }
   ],
   "source": [
    "plt.plot(range(2,N1+1),err_magnus)\n",
    "plt.xlabel('Number of qubits')\n",
    "plt.ylabel('Infidelity of just Magnus')"
   ]
  },
  {
   "cell_type": "code",
   "execution_count": 31,
   "id": "dce1e4e0-0534-4e60-8056-66b80680f7d6",
   "metadata": {},
   "outputs": [
    {
     "data": {
      "text/plain": [
       "Text(0, 0.5, 'Infidelity of Magnus and Chebyshev')"
      ]
     },
     "execution_count": 31,
     "metadata": {},
     "output_type": "execute_result"
    },
    {
     "data": {
      "image/png": "[encoded data removed]",
      "text/plain": [
       "<Figure size 640x480 with 1 Axes>"
      ]
     },
     "metadata": {},
     "output_type": "display_data"
    }
   ],
   "source": [
    "plt.plot(range(2,N1+1),err_cheby)\n",
    "plt.xlabel('Number of qubits')\n",
    "plt.ylabel('Infidelity of Magnus and Chebyshev')"
   ]
  },
  {
   "cell_type": "code",
   "execution_count": 32,
   "id": "eeda2a43-670f-419a-b43a-3497b3b0d52e",
   "metadata": {},
   "outputs": [
    {
     "data": {
      "text/plain": [
       "Text(0, 0.5, 'Norm error of Magnus')"
      ]
     },
     "execution_count": 32,
     "metadata": {},
     "output_type": "execute_result"
    },
    {
     "data": {
      "image/png": "[encoded data removed]",
      "text/plain": [
       "<Figure size 640x480 with 1 Axes>"
      ]
     },
     "metadata": {},
     "output_type": "display_data"
    }
   ],
   "source": [
    "plt.plot(range(2,N1+1),err_magnus1)\n",
    "plt.xlabel('Number of qubits')\n",
    "plt.ylabel(\"Norm error of Magnus\")"
   ]
  },
  {
   "cell_type": "code",
   "execution_count": 33,
   "id": "acedff4c-7169-4b78-9ca0-6b61cf660431",
   "metadata": {},
   "outputs": [
    {
     "data": {
      "text/plain": [
       "Text(0, 0.5, 'Norm error Magnus and Chebyshev')"
      ]
     },
     "execution_count": 33,
     "metadata": {},
     "output_type": "execute_result"
    },
    {
     "data": {
      "image/png": "[encoded data removed]",
      "text/plain": [
       "<Figure size 640x480 with 1 Axes>"
      ]
     },
     "metadata": {},
     "output_type": "display_data"
    }
   ],
   "source": [
    "plt.plot(range(2,N1+1),err_cheby2)\n",
    "plt.xlabel('Number of qubits')\n",
    "plt.ylabel('Norm error Magnus and Chebyshev')"
   ]
  },
  {
   "cell_type": "code",
   "execution_count": null,
   "id": "a19cecb5-5051-41a3-aa1f-75e7b72ad81e",
   "metadata": {},
   "outputs": [],
   "source": []
  },
  {
   "cell_type": "code",
   "execution_count": null,
   "id": "68e8d5b3-a5ce-4754-9f11-55cefd52a606",
   "metadata": {},
   "outputs": [],
   "source": []
  },
  {
   "cell_type": "code",
   "execution_count": null,
   "id": "a24f0520-1145-445e-81e0-c2bb1ddb2618",
   "metadata": {},
   "outputs": [],
   "source": []
  },
  {
   "cell_type": "code",
   "execution_count": null,
   "id": "7c6d6c54-985a-4f9d-9ae8-0b0496a87320",
   "metadata": {},
   "outputs": [],
   "source": []
  }
 ],
 "metadata": {
  "kernelspec": {
   "display_name": "Python 3 (ipykernel)",
   "language": "python",
   "name": "python3"
  },
  "language_info": {
   "codemirror_mode": {
    "name": "ipython",
    "version": 3
   },
   "file_extension": ".py",
   "mimetype": "text/x-python",
   "name": "python",
   "nbconvert_exporter": "python",
   "pygments_lexer": "ipython3",
   "version": "3.12.7"
  }
 },
 "nbformat": 4,
 "nbformat_minor": 5
}
